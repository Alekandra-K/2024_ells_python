{
  "cells": [
    {
      "cell_type": "markdown",
      "metadata": {
        "colab_type": "text",
        "id": "view-in-github"
      },
      "source": [
        "<a href=\"https://colab.research.google.com/github/aleksejalex/PyPEF_internal/blob/main/ELLS_Template.ipynb\" target=\"_parent\"><img src=\"https://colab.research.google.com/assets/colab-badge.svg\" alt=\"Open In Colab\"/></a>"
      ]
    },
    {
      "cell_type": "markdown",
      "metadata": {
        "id": "pRbDDh0Uf25z"
      },
      "source": [
        "# ELLS - Practical Introduction into Programming with Python\n",
        "\n",
        "<a href=\"https://pef.czu.cz/en/\"><img src=\"https://aleksejalex.4fan.cz/ells/temp_banner.jpeg\" alt=\"banner\" width=\"1000\"></a>\n",
        "\n",
        "\n",
        "\n"
      ]
    },
    {
      "cell_type": "markdown",
      "metadata": {
        "id": "LQsAPgdUvpSd"
      },
      "source": [
        "[GitHub Repository](https://github.com/)\n",
        "\n",
        "[Project's website](https://kii.pef.czu.cz/ells-2024)"
      ]
    },
    {
      "cell_type": "markdown",
      "metadata": {
        "id": "HRoCPFdVjWnR"
      },
      "source": [
        "# Plan for this lecture:\n",
        "## NumPy Workshop Outline\n",
        "\n",
        "<a href=\"https://www.pef.czu.cz/en\"><img src=\"images/logo.png\" alt=\"banner\" width=\"400\" align=\"right\"></a>= library created to work with *numerical data*:\n",
        "\n",
        "## Part 1: Creating NumPy Arrays\n",
        "- Using `np.array()` to create arrays from Python lists.\n",
        "- Generating arrays with `np.zeros()` and `np.ones()`.\n",
        "- Using `np.arange()` for array creation.\n",
        "- Exploring array attributes (shape, dtype, ndim, size).\n",
        "- Reshaping arrays with `np.reshape()`.\n",
        "\n",
        "## Part 2: Array Indexing and Slicing\n",
        "- Accessing elements and rows in a NumPy array.\n",
        "- Slicing subarrays in NumPy arrays.\n",
        "- Using negative indices for indexing.\n",
        "- Combining indexing and slicing.\n",
        "- Modifying array elements using indexing.\n",
        "\n",
        "## Part 3: Array Operations\n",
        "- Element-wise Operations: Arithmetic operations (+, -, *, /).\n",
        "- Array Broadcasting: Understanding how NumPy handles operations on arrays of different shapes.\n",
        "\n",
        "## Part 4: Aggregation Functions\n",
        "- Basic Aggregation: Computing statistics like min, max, sum, mean.\n",
        "\n",
        "## Part 5: Advanced Indexing and Filtering\n",
        "- Boolean Indexing: Selecting elements based on conditions.\n",
        "- Fancy Indexing: Using integer arrays to access elements.\n",
        "\n",
        "## Part 6: Advanced NumPy Techniques\n",
        "- Linear Algebra Operations: Matrix multiplication, determinant, inverse.\n",
        "- Array Manipulation: Reshaping, stacking, splitting arrays.\n"
      ]
    },
    {
      "cell_type": "markdown",
      "metadata": {},
      "source": [
        "# Part 1 - Creating NumPy Arrays\n"
      ]
    },
    {
      "cell_type": "markdown",
      "metadata": {},
      "source": [
        "### Task 1: Creating and manipulating NumPy arrays\n",
        "Create a NumPy array from the list `[5, 10, 15, 20, 25, 30]`. Then generate a 3x3 array filled with ones and multiply it by 5. Finally, create an array with values ranging from 10 to 50 with a step of 5 and reshape it to a 3x3 array. Print all arrays.\n"
      ]
    },
    {
      "cell_type": "code",
      "execution_count": null,
      "metadata": {},
      "outputs": [],
      "source": [
        "import numpy as np\n",
        "\n",
        "# Creating a NumPy array from a list\n",
        "array_from_list = np.array([5, 10, 15, 20, 25, 30])\n",
        "\n",
        "# Generating a 3x3 array filled with ones and multiplying it by 5\n",
        "ones_array = np.ones((3, 3)) * 5\n",
        "\n",
        "# Creating an array from 10 to 50 with a step of 5 and reshaping it to 3x3\n",
        "arange_array = np.arange(10, 55, 5).reshape(3, 3)\n",
        "\n",
        "print(\"Array from list:\", array_from_list)\n",
        "print(\"3x3 Array of ones multiplied by 5:\\n\", ones_array)\n",
        "print(\"Array with values from 10 to 50 reshaped to 3x3:\\n\", arange_array)\n"
      ]
    },
    {
      "cell_type": "markdown",
      "metadata": {},
      "source": [
        "# Part 2: Array Indexing and Slicing"
      ]
    },
    {
      "cell_type": "markdown",
      "metadata": {},
      "source": [
        "### Task 1: Advanced Indexing and Slicing\n",
        "Create a 6x6 array using `np.arange(36).reshape(6, 6)`. Access and print the element at the 5th row, 4th column, the entire third row, and a subarray consisting of the first four rows and last three columns.\n"
      ]
    },
    {
      "cell_type": "code",
      "execution_count": 8,
      "metadata": {
        "id": "5WXmnrMqcZ9X"
      },
      "outputs": [
        {
          "name": "stdout",
          "output_type": "stream",
          "text": [
            "x is greater than 5\n"
          ]
        }
      ],
      "source": [
        "import numpy as np\n",
        "\n",
        "# Creating a 6x6 array\n",
        "array_6x6 = np.arange(36).reshape(6, 6)\n",
        "\n",
        "# Accessing elements\n",
        "element = array_6x6[4, 3]\n",
        "third_row = array_6x6[2, :]\n",
        "subarray = array_6x6[:4, 3:]\n",
        "\n",
        "print(\"6x6 Array:\\n\", array_6x6)\n",
        "print(\"Element at 5th row, 4th column:\", element)\n",
        "print(\"Third row:\", third_row)\n",
        "print(\"Subarray (first four rows, last three columns):\\n\", subarray)\n"
      ]
    },
    {
      "cell_type": "markdown",
      "metadata": {},
      "source": [
        "# Part 3: Array Operations"
      ]
    },
    {
      "cell_type": "markdown",
      "metadata": {},
      "source": [
        "### Task 1: Complex Element-wise Operations\n",
        "Create two 2x3 arrays: `array1 = np.array([[1, 2, 3], [4, 5, 6]])` and `array2 = np.array([[7, 8, 9], [10, 11, 12]])`. Perform element-wise addition, subtraction, multiplication, and division. Then compute the element-wise square root of `array1` and the element-wise exponential of `array2`. Print all results.\n"
      ]
    },
    {
      "cell_type": "code",
      "execution_count": 13,
      "metadata": {},
      "outputs": [
        {
          "name": "stdout",
          "output_type": "stream",
          "text": [
            "apple\n",
            "banana\n",
            "cherry\n"
          ]
        }
      ],
      "source": [
        "import numpy as np\n",
        "\n",
        "# Creating two arrays\n",
        "array1 = np.array([[1, 2, 3], [4, 5, 6]])\n",
        "array2 = np.array([[7, 8, 9], [10, 11, 12]])\n",
        "\n",
        "# Element-wise operations\n",
        "addition = array1 + array2\n",
        "subtraction = array1 - array2\n",
        "multiplication = array1 * array2\n",
        "division = array1 / array2\n",
        "sqrt_array1 = np.sqrt(array1)\n",
        "exp_array2 = np.exp(array2)\n",
        "\n",
        "print(\"Array 1:\\n\", array1)\n",
        "print(\"Array 2:\\n\", array2)\n",
        "print(\"Element-wise addition:\\n\", addition)\n",
        "print(\"Element-wise subtraction:\\n\", subtraction)\n",
        "print(\"Element-wise multiplication:\\n\", multiplication)\n",
        "print(\"Element-wise division:\\n\", division)\n",
        "print(\"Element-wise square root of array1:\\n\", sqrt_array1)\n",
        "print(\"Element-wise exponential of array2:\\n\", exp_array2)\n"
      ]
    },
    {
      "cell_type": "markdown",
      "metadata": {},
      "source": [
        "# Part 4: Aggregation Functions"
      ]
    },
    {
      "cell_type": "markdown",
      "metadata": {},
      "source": [
        "### Task 1: Advanced Aggregation\n",
        "Create a 4x4 array using `np.array([[2, 3, 5, 7], [11, 13, 17, 19], [23, 29, 31, 37], [41, 43, 47, 53]])`. Compute and print the minimum, maximum, sum, mean, standard deviation, and variance of the entire array, as well as the sum of elements along each row.\n"
      ]
    },
    {
      "cell_type": "code",
      "execution_count": 14,
      "metadata": {},
      "outputs": [
        {
          "name": "stdout",
          "output_type": "stream",
          "text": [
            "1\n",
            "2\n",
            "3\n",
            "4\n",
            "5\n"
          ]
        }
      ],
      "source": [
        "import numpy as np\n",
        "\n",
        "# Creating a 4x4 array\n",
        "array = np.array([[2, 3, 5, 7], [11, 13, 17, 19], [23, 29, 31, 37], [41, 43, 47, 53]])\n",
        "\n",
        "# Computing aggregation functions\n",
        "min_value = np.min(array)\n",
        "max_value = np.max(array)\n",
        "sum_value = np.sum(array)\n",
        "mean_value = np.mean(array)\n",
        "std_deviation = np.std(array)\n",
        "variance = np.var(array)\n",
        "sum_along_rows = np.sum(array, axis=1)\n",
        "\n",
        "print(\"Array:\\n\", array)\n",
        "print(\"Minimum value:\", min_value)\n",
        "print(\"Maximum value:\", max_value)\n",
        "print(\"Sum of all elements:\", sum_value)\n",
        "print(\"Mean of all elements:\", mean_value)\n",
        "print(\"Standard deviation:\", std_deviation)\n",
        "print(\"Variance:\", variance)\n",
        "print(\"Sum of elements along each row:\", sum_along_rows)\n"
      ]
    },
    {
      "cell_type": "markdown",
      "metadata": {},
      "source": [
        "# Part 5: Advanced Indexing and Filtering"
      ]
    },
    {
      "cell_type": "markdown",
      "metadata": {},
      "source": [
        "### Task 1: Boolean and Fancy Indexing\n",
        "Create a NumPy array `[5, 15, 25, 35, 45, 55, 65]`. Use Boolean indexing to select elements greater than 20. Use fancy indexing to select elements at indices `[0, 2, 4, 6]` and print the results.\n"
      ]
    },
    {
      "cell_type": "code",
      "execution_count": 18,
      "metadata": {},
      "outputs": [
        {
          "name": "stdout",
          "output_type": "stream",
          "text": [
            "apple\n"
          ]
        }
      ],
      "source": [
        "import numpy as np\n",
        "\n",
        "# Creating an array\n",
        "array = np.array([5, 15, 25, 35, 45, 55, 65])\n",
        "\n",
        "# Boolean indexing\n",
        "greater_than_20 = array[array > 20]\n",
        "\n",
        "# Fancy indexing\n",
        "fancy_indices = array[[0, 2, 4, 6]]\n",
        "\n",
        "print(\"Array:\", array)\n",
        "print(\"Elements greater than 20:\", greater_than_20)\n",
        "print(\"Elements at indices [0, 2, 4, 6]:\", fancy_indices)\n"
      ]
    },
    {
      "cell_type": "markdown",
      "metadata": {},
      "source": [
        "# Part 6: Advanced NumPy Techniques"
      ]
    },
    {
      "cell_type": "markdown",
      "metadata": {},
      "source": [
        "### Task 1: Linear Algebra and Array Manipulation\n",
        "Create a 2x2 matrix `matrix = np.array([[2, 3], [1, 4]])`. Compute and print the determinant and inverse of the matrix. Then create a 1x4 array `[10, 20, 30, 40]`, reshape it to a 2x2 array, and stack it vertically with the original matrix. Finally, split the stacked array into two equal arrays and print all results.\n"
      ]
    },
    {
      "cell_type": "code",
      "execution_count": 1,
      "metadata": {},
      "outputs": [
        {
          "name": "stdout",
          "output_type": "stream",
          "text": [
            "Matrix:\n",
            " [[2 3]\n",
            " [1 4]]\n",
            "Determinant of the matrix: 5.000000000000001\n",
            "Inverse of the matrix:\n",
            " [[ 0.8 -0.6]\n",
            " [-0.2  0.4]]\n",
            "Reshaped array:\n",
            " [[10 20]\n",
            " [30 40]]\n",
            "Stacked array:\n",
            " [[ 2  3]\n",
            " [ 1  4]\n",
            " [10 20]\n",
            " [30 40]]\n",
            "Split arrays:\n",
            " [[2 3]\n",
            " [1 4]] \n",
            "\n",
            " [[10 20]\n",
            " [30 40]]\n"
          ]
        }
      ],
      "source": [
        "import numpy as np\n",
        "\n",
        "# Creating a 2x2 matrix\n",
        "matrix = np.array([[2, 3], [1, 4]])\n",
        "\n",
        "# Linear algebra operations\n",
        "determinant = np.linalg.det(matrix)\n",
        "inverse_matrix = np.linalg.inv(matrix)\n",
        "\n",
        "# Creating and reshaping an array\n",
        "array = np.array([10, 20, 30, 40]).reshape(2, 2)\n",
        "\n",
        "# Stacking arrays\n",
        "stacked_array = np.vstack((matrix, array))\n",
        "\n",
        "# Splitting the stacked array\n",
        "split_arrays = np.split(stacked_array, 2)\n",
        "\n",
        "print(\"Matrix:\\n\", matrix)\n",
        "print(\"Determinant of the matrix:\", determinant)\n",
        "print(\"Inverse of the matrix:\\n\", inverse_matrix)\n",
        "print(\"Reshaped array:\\n\", array)\n",
        "print(\"Stacked array:\\n\", stacked_array)\n",
        "print(\"Split arrays:\\n\", split_arrays[0], \"\\n\\n\", split_arrays[1])\n"
      ]
    },
    {
      "cell_type": "markdown",
      "metadata": {
        "id": "oWDO6JL6r14R"
      },
      "source": [
        "# Summary\n",
        "- Part 1: Creating NumPy Arrays\n",
        "- Part 2: Array Indexing and Slicing\n",
        "- Part 3: Array Operations\n",
        "- Part 4: Aggregation Functions\n",
        "- Part 5: Advanced Indexing and Filtering\n",
        "- Part 6: Advanced NumPy Techniques\n"
      ]
    },
    {
      "cell_type": "markdown",
      "metadata": {
        "id": "hSP8oxmBr77B"
      },
      "source": [
        "## Additional sources (where to seek for information):\n",
        " - Programming with Mosh: https://www.youtube.com/watch?v=kqtD5dpn9C8\n",
        " - w3Schools Python: https://www.w3schools.com/python/"
      ]
    },
    {
      "cell_type": "markdown",
      "metadata": {
        "id": "ObAKPgeNcZ9e"
      },
      "source": [
        "<div style=\"font-style: italic; font-size: 14px;\">\n",
        "    <p>This material was prepared by Department of Information Engineering (<a href=\"https://www.pef.czu.cz/en\">PEF ČZU</a>) exclusively for purposes of ELLS summer school \"Practical Introduction into Programming with Python\". Any distribution or reproduction of this material, in whole or in part, without prior written consent of the authors is prohibited.</p>\n",
        "    <p>This material is shared under the <b>Creative Commons Attribution-NonCommercial-NoDerivatives 4.0 International Public License</b>, <a href=\"https://creativecommons.org/licenses/by-nc-nd/4.0/\">link</a>.</p>\n",
        "</div>\n"
      ]
    }
  ],
  "metadata": {
    "colab": {
      "include_colab_link": true,
      "provenance": []
    },
    "kernelspec": {
      "display_name": "Python 3",
      "name": "python3"
    },
    "language_info": {
      "codemirror_mode": {
        "name": "ipython",
        "version": 3
      },
      "file_extension": ".py",
      "mimetype": "text/x-python",
      "name": "python",
      "nbconvert_exporter": "python",
      "pygments_lexer": "ipython3",
      "version": "3.12.1"
    }
  },
  "nbformat": 4,
  "nbformat_minor": 0
}
