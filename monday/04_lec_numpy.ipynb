{
  "cells": [
    {
      "cell_type": "markdown",
      "metadata": {
        "id": "view-in-github",
        "colab_type": "text"
      },
      "source": [
        "<a href=\"https://colab.research.google.com/github/aleksejalex/2024_ells_python/blob/main/monday/04_lec_numpy.ipynb\" target=\"_parent\"><img src=\"https://colab.research.google.com/assets/colab-badge.svg\" alt=\"Open In Colab\"/></a>"
      ]
    },
    {
      "cell_type": "markdown",
      "metadata": {
        "id": "pRbDDh0Uf25z"
      },
      "source": [
        "# ELLS - Practical Introduction into Programming with Python\n",
        "\n",
        "<a href=\"https://pef.czu.cz/en/\"><img src=\"https://aleksejalex.4fan.cz/ells/temp_banner.jpeg?\" alt=\"banner\" width=\"1000\"></a>\n",
        "\n",
        "\n",
        "\n"
      ]
    },
    {
      "cell_type": "markdown",
      "metadata": {
        "id": "LQsAPgdUvpSd"
      },
      "source": [
        "[GitHub Repository](https://github.com/aleksejalex/2024_ells_python)\n"
      ]
    },
    {
      "cell_type": "markdown",
      "metadata": {
        "id": "HRoCPFdVjWnR"
      },
      "source": [
        "# Plan for this lecture:\n",
        "## NumPy Lecture Outline\n",
        "\n",
        "\n",
        "## Part 1: Creating NumPy Arrays\n",
        "- Using `np.array()` to create arrays from Python lists.\n",
        "- Generating arrays with `np.zeros()` and `np.ones()`.\n",
        "- Using `np.arange()` for array creation.\n",
        "- Exploring array attributes (shape, dtype, ndim, size).\n",
        "- Reshaping arrays with `np.reshape()`.\n",
        "\n",
        "## Part 2: Array Indexing and Slicing\n",
        "- Accessing elements and rows in a NumPy array.\n",
        "- Slicing subarrays in NumPy arrays.\n",
        "- Using negative indices for indexing.\n",
        "- Combining indexing and slicing.\n",
        "- Modifying array elements using indexing.\n",
        "\n",
        "## Part 3: Array Operations\n",
        "- Element-wise Operations: Arithmetic operations (+, -, *, /).\n",
        "- Array Broadcasting: Understanding how NumPy handles operations on arrays of different shapes.\n",
        "\n",
        "## Part 4: Aggregation Functions\n",
        "- Basic Aggregation: Computing statistics like min, max, sum, mean.\n",
        "\n",
        "## Part 5: Advanced Indexing and Filtering\n",
        "- Boolean Indexing: Selecting elements based on conditions.\n",
        "- Fancy Indexing: Using integer arrays to access elements.\n",
        "\n",
        "## Part 6: Advanced NumPy Techniques\n",
        "- Linear Algebra Operations: Matrix multiplication, determinant, inverse.\n",
        "- Array Manipulation: Reshaping, stacking, splitting arrays.\n"
      ]
    },
    {
      "cell_type": "markdown",
      "source": [
        "## NumPy: Numerical Python\n",
        "\n",
        "<a href=\"https://numpy.org/\"><img src=\"https://numpy.org/doc/stable/_static/numpylogo.svg\" alt=\"logo\" width=\"400\" align=\"right\"></a>\n",
        "\n",
        "= library created to work with *numerical data*:\n",
        "\n",
        " - effectively stores and operates with high-dimensional data structures (**arrays** - like vectors and matrices)\n",
        " - implements mathematical operations on those arrays"
      ],
      "metadata": {
        "id": "fwQUf-aVtIhp"
      }
    },
    {
      "cell_type": "markdown",
      "source": [
        "### Array - basic type of variable in NumPy\n",
        "\n",
        " - very similar to vector/matrix in algebra\n",
        " - type of variable: `ndarray`"
      ],
      "metadata": {
        "id": "r5-125YotV7c"
      }
    },
    {
      "cell_type": "markdown",
      "source": [
        "| Feature                          | Python Lists (`list`)                                 | NumPy Arrays (`ndarray`)                                 |\n",
        "|----------------------------------|-----------------------------------------------|----------------------------------------------|\n",
        "| Data Types                       | Can contain elements of different data types  | Homogeneous data type ⚠️                       |\n",
        "| Performance                      | Slower for large datasets                     | Faster for large datasets                    |\n",
        "| Mathematical Operations          | Limited functionality for mathematical ops    | Rich set of mathematical operations         |\n",
        "| Indexing and Slicing             | Basic indexing and slicing                    | Advanced indexing and slicing                |\n",
        "| Iteration                        | Basic iteration                                | Vectorized operations                        |\n",
        "| Memory Efficiency                | Less memory efficient                         | More memory efficient                        |\n"
      ],
      "metadata": {
        "id": "iuswUKCmtaEi"
      }
    },
    {
      "cell_type": "markdown",
      "metadata": {
        "id": "M6T-Kwj_lIBN"
      },
      "source": [
        "# Part 1: Creating NumPy Arrays"
      ]
    },
    {
      "cell_type": "markdown",
      "metadata": {
        "id": "bOTED6HDlIBN"
      },
      "source": [
        "### 1. Using `np.array()` to Create Arrays from Python Lists\n",
        "\n",
        "NumPy arrays can be created from Python lists using the `np.array()` function. This function takes a list (or nested lists for multi-dimensional arrays) and converts it into a NumPy array.\n"
      ]
    },
    {
      "cell_type": "code",
      "execution_count": null,
      "metadata": {
        "colab": {
          "base_uri": "https://localhost:8080/"
        },
        "id": "2n53yAOTlIBO",
        "outputId": "8229bf2b-706d-4048-a43c-817a5a701233"
      },
      "outputs": [
        {
          "output_type": "stream",
          "name": "stdout",
          "text": [
            "1D Array from list: [1 2 3 4 5]\n"
          ]
        }
      ],
      "source": [
        "import numpy as np\n",
        "\n",
        "# Creating a NumPy array from a list\n",
        "list_1d = [1, 2, 3, 4, 5]\n",
        "array_1d = np.array(list_1d)\n",
        "\n",
        "print(\"1D Array from list:\", array_1d)"
      ]
    },
    {
      "cell_type": "markdown",
      "source": [
        "...something we are familiar with from math and physics:\n",
        "\n",
        "$$ \\vec{a} = \\begin{pmatrix} 1 \\\\ 2 \\\\ 3 \\\\ 4 \\\\ 5 \\end{pmatrix} $$"
      ],
      "metadata": {
        "id": "Os7MsF8kthLG"
      }
    },
    {
      "cell_type": "markdown",
      "metadata": {
        "id": "l2FiDy3flIBP"
      },
      "source": [
        "### 2. Generating Arrays with `np.zeros()` and `np.ones()`\n",
        "\n",
        "NumPy provides convenient functions to create arrays filled with zeros or ones.\n"
      ]
    },
    {
      "cell_type": "code",
      "execution_count": null,
      "metadata": {
        "colab": {
          "base_uri": "https://localhost:8080/"
        },
        "id": "bLN0-n4VlIBQ",
        "outputId": "f62ee329-d366-4a7c-ab47-30b395e8125c"
      },
      "outputs": [
        {
          "output_type": "stream",
          "name": "stdout",
          "text": [
            "3x3 Array of zeros:\n",
            " [[0. 0. 0.]\n",
            " [0. 0. 0.]\n",
            " [0. 0. 0.]]\n",
            "2x5 Array of ones:\n",
            " [[1. 1. 1. 1. 1.]\n",
            " [1. 1. 1. 1. 1.]]\n"
          ]
        }
      ],
      "source": [
        "# Generating a 3x3 array filled with zeros\n",
        "zeros_array = np.zeros((3, 3))\n",
        "\n",
        "print(\"3x3 Array of zeros:\\n\", zeros_array)\n",
        "\n",
        "# Generating a 2x5 array filled with ones\n",
        "ones_array = np.ones((2, 5))\n",
        "\n",
        "print(\"2x5 Array of ones:\\n\", ones_array)"
      ]
    },
    {
      "cell_type": "markdown",
      "metadata": {
        "id": "-md7E5EFlIBR"
      },
      "source": [
        "### 3. Using `np.arange()` for Array Creation\n",
        "\n",
        "The `np.arange()` function generates arrays with evenly spaced values within a specified range.\n"
      ]
    },
    {
      "cell_type": "code",
      "execution_count": null,
      "metadata": {
        "colab": {
          "base_uri": "https://localhost:8080/"
        },
        "id": "EzFxIjvFlIBT",
        "outputId": "27229c10-39a1-4fd3-f439-df9ce22e2fb0"
      },
      "outputs": [
        {
          "output_type": "stream",
          "name": "stdout",
          "text": [
            "Array with np.arange(10, 55, 5): [10 15 20 25 30 35 40 45 50]\n"
          ]
        }
      ],
      "source": [
        "# Creating an array from 10 to 50 with a step of 5\n",
        "arange_array = np.arange(10, 55, 5)\n",
        "\n",
        "print(\"Array with np.arange(10, 55, 5):\", arange_array)\n"
      ]
    },
    {
      "cell_type": "markdown",
      "metadata": {
        "id": "vPqAggbulIBT"
      },
      "source": [
        "### 4. Exploring Array Attributes (shape, dtype, ndim, size)\n",
        "\n",
        "NumPy arrays have several attributes that provide information about the array's structure and data type.\n"
      ]
    },
    {
      "cell_type": "code",
      "execution_count": null,
      "metadata": {
        "colab": {
          "base_uri": "https://localhost:8080/"
        },
        "id": "HpMXLlN5lIBU",
        "outputId": "659e814c-9068-428a-fc8e-0a8783ecc351"
      },
      "outputs": [
        {
          "output_type": "stream",
          "name": "stdout",
          "text": [
            "Array:\n",
            " [[1 2 3]\n",
            " [4 5 6]\n",
            " [7 8 9]]\n",
            "Shape: (3, 3)\n",
            "Data type: int64\n",
            "Number of dimensions: 2\n",
            "Size (number of elements): 9\n"
          ]
        }
      ],
      "source": [
        "# Creating an array\n",
        "example_array = np.array([[1, 2, 3], [4, 5, 6], [7, 8, 9]])\n",
        "\n",
        "# Exploring array attributes\n",
        "print(\"Array:\\n\", example_array)\n",
        "print(\"Shape:\", example_array.shape)    # Shape of the array\n",
        "print(\"Data type:\", example_array.dtype) # Data type of the array elements\n",
        "print(\"Number of dimensions:\", example_array.ndim) # Number of dimensions\n",
        "print(\"Size (number of elements):\", example_array.size) # Total number of elements\n"
      ]
    },
    {
      "cell_type": "markdown",
      "metadata": {
        "id": "gHI8BX48lIBU"
      },
      "source": [
        "### 5. Reshaping Arrays with `np.reshape()`\n",
        "\n",
        "The `np.reshape()` function allows you to change the shape of an array without changing its data.\n"
      ]
    },
    {
      "cell_type": "code",
      "execution_count": null,
      "metadata": {
        "colab": {
          "base_uri": "https://localhost:8080/"
        },
        "id": "SaptD83olIBV",
        "outputId": "5eef39d7-42e2-4f7c-877f-0dfa3b4728fa"
      },
      "outputs": [
        {
          "output_type": "stream",
          "name": "stdout",
          "text": [
            "Original array: [ 0  1  2  3  4  5  6  7  8  9 10 11]\n",
            "Reshaped array:\n",
            " [[ 0  1  2  3]\n",
            " [ 4  5  6  7]\n",
            " [ 8  9 10 11]]\n"
          ]
        }
      ],
      "source": [
        "# Creating and reshaping an array\n",
        "original_array = np.arange(12)\n",
        "reshaped_array = np.reshape(original_array, (3, 4))\n",
        "\n",
        "print(\"Original array:\", original_array)\n",
        "print(\"Reshaped array:\\n\", reshaped_array)\n"
      ]
    },
    {
      "cell_type": "markdown",
      "metadata": {
        "id": "NBWzJuOtlIBV"
      },
      "source": [
        "# Part 2: Array Indexing and Slicing"
      ]
    },
    {
      "cell_type": "markdown",
      "metadata": {
        "id": "wAwNWgrJlIBV"
      },
      "source": [
        "### 1. Accessing elements and rows in a NumPy array\n",
        "\n",
        "You can access individual elements and entire rows in a NumPy array using indices. NumPy arrays use zero-based indexing, so the first element is accessed with index 0.\n"
      ]
    },
    {
      "cell_type": "code",
      "execution_count": null,
      "metadata": {
        "id": "5WXmnrMqcZ9X",
        "colab": {
          "base_uri": "https://localhost:8080/"
        },
        "outputId": "a4476c82-9af5-414a-c41f-d721b1e1f86e"
      },
      "outputs": [
        {
          "output_type": "stream",
          "name": "stdout",
          "text": [
            "4x4 Array:\n",
            " [[ 0  1  2  3]\n",
            " [ 4  5  6  7]\n",
            " [ 8  9 10 11]\n",
            " [12 13 14 15]]\n",
            "Element at 3rd row, 2nd column: 9\n",
            "Second row: [4 5 6 7]\n"
          ]
        }
      ],
      "source": [
        "import numpy as np\n",
        "\n",
        "# Creating a 4x4 array\n",
        "array_4x4 = np.arange(16).reshape(4, 4)\n",
        "\n",
        "# Accessing the element at 3rd row, 2nd column\n",
        "element = array_4x4[2, 1]\n",
        "\n",
        "# Accessing the entire second row\n",
        "second_row = array_4x4[1, :]\n",
        "\n",
        "print(\"4x4 Array:\\n\", array_4x4)\n",
        "print(\"Element at 3rd row, 2nd column:\", element)\n",
        "print(\"Second row:\", second_row)\n"
      ]
    },
    {
      "cell_type": "markdown",
      "source": [
        "⚠️ Remember: Python indexes from 0."
      ],
      "metadata": {
        "id": "hkqmKQ6r3DDb"
      }
    },
    {
      "cell_type": "markdown",
      "metadata": {
        "id": "xh-yC1Q6lIBW"
      },
      "source": [
        "### 2. Slicing subarrays in NumPy arrays\n",
        "\n",
        "You can slice subarrays from a NumPy array using the slicing syntax. Slicing is done using the colon (`:`) operator. The syntax is `start:stop:step`, where `start` is the starting index, `stop` is the ending index (exclusive), and `step` is the step size."
      ]
    },
    {
      "cell_type": "code",
      "execution_count": null,
      "metadata": {
        "colab": {
          "base_uri": "https://localhost:8080/"
        },
        "id": "TV1X_Y2dlIBW",
        "outputId": "1ac0f8de-49c3-42c7-87c4-8cb806826008"
      },
      "outputs": [
        {
          "output_type": "stream",
          "name": "stdout",
          "text": [
            "4x4 Array:\n",
            " [[ 0  1  2  3]\n",
            " [ 4  5  6  7]\n",
            " [ 8  9 10 11]\n",
            " [12 13 14 15]]\n",
            "Sliced subarray (first two rows and columns):\n",
            " [[0 1]\n",
            " [4 5]]\n",
            "Every other element in the second row: [4 6]\n"
          ]
        }
      ],
      "source": [
        "# Slicing the first two rows and columns\n",
        "subarray = array_4x4[:2, :2]\n",
        "\n",
        "# Slicing every other element in the second row\n",
        "every_other = array_4x4[1, ::2]\n",
        "\n",
        "print(\"4x4 Array:\\n\", array_4x4)\n",
        "print(\"Sliced subarray (first two rows and columns):\\n\", subarray)\n",
        "print(\"Every other element in the second row:\", every_other)\n"
      ]
    },
    {
      "cell_type": "markdown",
      "metadata": {
        "id": "nNBucNHolIBX"
      },
      "source": [
        "### 3. Using negative indices for indexing\n",
        "\n",
        "Negative indices can be used to access elements from the end of the array. For example, `-1` refers to the last element, `-2` refers to the second last element, and so on.\n"
      ]
    },
    {
      "cell_type": "code",
      "execution_count": null,
      "metadata": {
        "colab": {
          "base_uri": "https://localhost:8080/"
        },
        "id": "NwYqEmqYlIBX",
        "outputId": "cab6a397-2857-4ed2-d184-1106969be17a"
      },
      "outputs": [
        {
          "output_type": "stream",
          "name": "stdout",
          "text": [
            "4x4 Array:\n",
            " [[ 0  1  2  3]\n",
            " [ 4  5  6  7]\n",
            " [ 8  9 10 11]\n",
            " [12 13 14 15]]\n",
            "Last element (using negative indices): 15\n",
            "Last row (using negative indices): [12 13 14 15]\n"
          ]
        }
      ],
      "source": [
        "# Accessing the last element using negative indices\n",
        "last_element = array_4x4[-1, -1]\n",
        "\n",
        "# Accessing the last row\n",
        "last_row = array_4x4[-1, :]\n",
        "\n",
        "print(\"4x4 Array:\\n\", array_4x4)\n",
        "print(\"Last element (using negative indices):\", last_element)\n",
        "print(\"Last row (using negative indices):\", last_row)\n"
      ]
    },
    {
      "cell_type": "markdown",
      "metadata": {
        "id": "2D1S9QjrlIBX"
      },
      "source": [
        "### 4. Combining indexing and slicing\n",
        "\n",
        "You can combine indexing and slicing to access specific parts of the array. For example, you can access a specific row and then slice elements from that row.\n"
      ]
    },
    {
      "cell_type": "code",
      "execution_count": null,
      "metadata": {
        "colab": {
          "base_uri": "https://localhost:8080/"
        },
        "id": "EMP3_F86lIBY",
        "outputId": "70827676-5a90-4c0a-a663-9617b0d828b8"
      },
      "outputs": [
        {
          "output_type": "stream",
          "name": "stdout",
          "text": [
            "4x4 Array:\n",
            " [[ 0  1  2  3]\n",
            " [ 4  5  6  7]\n",
            " [ 8  9 10 11]\n",
            " [12 13 14 15]]\n",
            "Second row (using slicing): [4 5 6 7]\n",
            "Sliced elements from the second row: [5 6]\n"
          ]
        }
      ],
      "source": [
        "# Combining indexing and slicing to print the second row\n",
        "second_row_sliced = array_4x4[1, :]\n",
        "\n",
        "# Slicing elements from the second row\n",
        "sliced_elements = array_4x4[1, 1:3]\n",
        "\n",
        "print(\"4x4 Array:\\n\", array_4x4)\n",
        "print(\"Second row (using slicing):\", second_row_sliced)\n",
        "print(\"Sliced elements from the second row:\", sliced_elements)\n"
      ]
    },
    {
      "cell_type": "markdown",
      "metadata": {
        "id": "W8TC-14_lIBY"
      },
      "source": [
        "### 5. Modifying array elements using indexing\n",
        "\n",
        "You can modify elements of a NumPy array by using indexing. This can be done for individual elements or for entire rows/columns."
      ]
    },
    {
      "cell_type": "code",
      "execution_count": null,
      "metadata": {
        "colab": {
          "base_uri": "https://localhost:8080/"
        },
        "id": "nWz6GF30lIBY",
        "outputId": "5175a7ed-42ad-4a1f-d210-b2dbb5dc3d71"
      },
      "outputs": [
        {
          "output_type": "stream",
          "name": "stdout",
          "text": [
            "Modified array (third row set to 10s and one element to 50):\n",
            " [[ 0  1  2  3]\n",
            " [ 4  5 50  7]\n",
            " [10 10 10 10]\n",
            " [12 13 14 15]]\n"
          ]
        }
      ],
      "source": [
        "# Modifying the third row to all 10s\n",
        "array_4x4[2, :] = 10\n",
        "\n",
        "# Modifying the element at 2nd row, 3rd column to 50\n",
        "array_4x4[1, 2] = 50\n",
        "\n",
        "print(\"Modified array (third row set to 10s and one element to 50):\\n\", array_4x4)\n"
      ]
    },
    {
      "cell_type": "markdown",
      "metadata": {
        "id": "h04Dh31ylIBZ"
      },
      "source": [
        "# Part 3: Array Operations"
      ]
    },
    {
      "cell_type": "markdown",
      "metadata": {
        "id": "9eGCHoVZlIBZ"
      },
      "source": [
        "### 1. Element-wise Operations: Arithmetic operations (+, -, *, /)\n",
        "\n",
        "NumPy allows you to perform arithmetic operations on arrays element-wise. This means that the operation is applied to each element of the array individually.\n"
      ]
    },
    {
      "cell_type": "code",
      "execution_count": null,
      "metadata": {
        "colab": {
          "base_uri": "https://localhost:8080/"
        },
        "id": "0pTxJykWlIBZ",
        "outputId": "68f1d405-c957-477e-cf43-8364dd6598de"
      },
      "outputs": [
        {
          "output_type": "stream",
          "name": "stdout",
          "text": [
            "Array 1: [1 2 3]\n",
            "Array 2: [4 5 6]\n",
            "Element-wise addition: [5 7 9]\n",
            "Element-wise subtraction: [-3 -3 -3]\n",
            "Element-wise multiplication: [ 4 10 18]\n",
            "Element-wise division: [0.25 0.4  0.5 ]\n",
            "Element-wise power: [  1  32 729]\n"
          ]
        }
      ],
      "source": [
        "import numpy as np\n",
        "\n",
        "# Creating two arrays\n",
        "array1 = np.array([1, 2, 3])\n",
        "array2 = np.array([4, 5, 6])\n",
        "\n",
        "# Element-wise addition\n",
        "addition = array1 + array2\n",
        "\n",
        "# Element-wise subtraction\n",
        "subtraction = array1 - array2\n",
        "\n",
        "# Element-wise multiplication\n",
        "multiplication = array1 * array2\n",
        "\n",
        "# Element-wise division\n",
        "division = array1 / array2\n",
        "\n",
        "# Element-wise power\n",
        "power = array1 ** array2\n",
        "\n",
        "print(\"Array 1:\", array1)\n",
        "print(\"Array 2:\", array2)\n",
        "print(\"Element-wise addition:\", addition)\n",
        "print(\"Element-wise subtraction:\", subtraction)\n",
        "print(\"Element-wise multiplication:\", multiplication)\n",
        "print(\"Element-wise division:\", division)\n",
        "print(\"Element-wise power:\", power)\n"
      ]
    },
    {
      "cell_type": "markdown",
      "source": [
        "Element-wise operations also comes in handy when we want to get values of a function (for ex. to plot it)."
      ],
      "metadata": {
        "id": "PFD-cb0av_qq"
      }
    },
    {
      "cell_type": "code",
      "source": [
        "x = np.arange(0, 5, 1)\n",
        "print(f\"arguments x = {x}\")\n",
        "\n",
        "y = x**2\n",
        "\n",
        "print(f\"values of y=x^2: {y}\")"
      ],
      "metadata": {
        "colab": {
          "base_uri": "https://localhost:8080/"
        },
        "id": "cSvsqddkv_YF",
        "outputId": "466fcba5-7b0f-4315-b843-4959675cf12e"
      },
      "execution_count": 24,
      "outputs": [
        {
          "output_type": "stream",
          "name": "stdout",
          "text": [
            "arguments x = [0 1 2 3 4]\n",
            "values of y=x^2: [ 0  1  4  9 16]\n"
          ]
        }
      ]
    },
    {
      "cell_type": "markdown",
      "source": [
        "Also there is a variety of built-in functions:"
      ],
      "metadata": {
        "id": "I1Og8LRxxeTV"
      }
    },
    {
      "cell_type": "code",
      "source": [
        "x = 1/2*np.pi\n",
        "print(f\"x = {x}\")\n",
        "\n",
        "print(f\"value of sin(x): {np.sin(x)}\")\n",
        "print(f\"value of cos(x): {np.cos(x)}\")\n",
        "print(f\"value of tan(x): {np.tan(x)}\")"
      ],
      "metadata": {
        "outputId": "da584861-3c4c-4f44-a1e2-accb9c15aa8b",
        "colab": {
          "base_uri": "https://localhost:8080/"
        },
        "id": "RqP1Eftyxje0"
      },
      "execution_count": 31,
      "outputs": [
        {
          "output_type": "stream",
          "name": "stdout",
          "text": [
            "x = 1.5707963267948966\n",
            "value of sin(x): 1.0\n",
            "value of cos(x): 6.123233995736766e-17\n",
            "value of tan(x): 1.633123935319537e+16\n"
          ]
        }
      ]
    },
    {
      "cell_type": "markdown",
      "source": [
        "**Remark:** matrix multiplication - non-element-wise operation:"
      ],
      "metadata": {
        "id": "sXPlHAQx3bSE"
      }
    },
    {
      "cell_type": "markdown",
      "source": [
        "Let's have these two matrices:\n",
        "\n",
        "$$ \\mathbb{A} =\n",
        "\\begin{pmatrix}\n",
        "1 & 2 \\\\\n",
        "3 & 4 \\\\\n",
        "\\end{pmatrix} ,\n",
        "\\quad \\quad\n",
        "\\mathbb{B} =\n",
        "\\begin{pmatrix}\n",
        "5 & 6 \\\\\n",
        "7 & 8 \\\\\n",
        "\\end{pmatrix}\n",
        "$$\n",
        "\n"
      ],
      "metadata": {
        "id": "XHGw3syc4FpM"
      }
    },
    {
      "cell_type": "code",
      "source": [
        "A = np.array([[1, 2],[3, 4]])\n",
        "B = np.array([[5, 6],[7, 8]])"
      ],
      "metadata": {
        "id": "W15Ar-Qz4PuZ"
      },
      "execution_count": 33,
      "outputs": []
    },
    {
      "cell_type": "code",
      "source": [
        "# dot product\n",
        "np.dot(A, B)"
      ],
      "metadata": {
        "id": "yosxD-4H4TQi",
        "outputId": "bf6f9db0-cd2c-4d39-9342-51b173be414e",
        "colab": {
          "base_uri": "https://localhost:8080/"
        }
      },
      "execution_count": 34,
      "outputs": [
        {
          "output_type": "execute_result",
          "data": {
            "text/plain": [
              "array([[19, 22],\n",
              "       [43, 50]])"
            ]
          },
          "metadata": {},
          "execution_count": 34
        }
      ]
    },
    {
      "cell_type": "code",
      "source": [
        "# or equivalently:\n",
        "A @ B"
      ],
      "metadata": {
        "id": "Xd0RTm9s4XVX",
        "outputId": "cbe34d31-2d84-4b23-8dd1-706090946f00",
        "colab": {
          "base_uri": "https://localhost:8080/"
        }
      },
      "execution_count": 35,
      "outputs": [
        {
          "output_type": "execute_result",
          "data": {
            "text/plain": [
              "array([[19, 22],\n",
              "       [43, 50]])"
            ]
          },
          "metadata": {},
          "execution_count": 35
        }
      ]
    },
    {
      "cell_type": "markdown",
      "source": [
        "You can test it by hand 😜:\n",
        "\n",
        "$$\n",
        "\\mathbb{A} \\cdot \\mathbb{B} =\n",
        "\\begin{pmatrix}\n",
        "1 & 2 \\\\\n",
        "3 & 4 \\\\\n",
        "\\end{pmatrix}\n",
        "\\cdot\n",
        "\\begin{pmatrix}\n",
        "5 & 6 \\\\\n",
        "7 & 8 \\\\\n",
        "\\end{pmatrix}\n",
        "=\n",
        "\\begin{pmatrix}\n",
        "19 & 22 \\\\\n",
        "43 & 50 \\\\\n",
        "\\end{pmatrix}\n",
        "$$"
      ],
      "metadata": {
        "id": "cXJ8Qhp24QYc"
      }
    },
    {
      "cell_type": "code",
      "source": [
        "# element-wise product\n",
        "np.multiply(A, B)"
      ],
      "metadata": {
        "id": "e1-FplUn4dcm",
        "outputId": "c130eb64-51b7-4ff6-e0d6-063bef52277f",
        "colab": {
          "base_uri": "https://localhost:8080/"
        }
      },
      "execution_count": 36,
      "outputs": [
        {
          "output_type": "execute_result",
          "data": {
            "text/plain": [
              "array([[ 5, 12],\n",
              "       [21, 32]])"
            ]
          },
          "metadata": {},
          "execution_count": 36
        }
      ]
    },
    {
      "cell_type": "code",
      "source": [
        "# or equivalently:\n",
        "A * B"
      ],
      "metadata": {
        "id": "nf09-sBl4gbp",
        "outputId": "f50eeeaf-465c-434a-9518-241db0834482",
        "colab": {
          "base_uri": "https://localhost:8080/"
        }
      },
      "execution_count": 37,
      "outputs": [
        {
          "output_type": "execute_result",
          "data": {
            "text/plain": [
              "array([[ 5, 12],\n",
              "       [21, 32]])"
            ]
          },
          "metadata": {},
          "execution_count": 37
        }
      ]
    },
    {
      "cell_type": "markdown",
      "metadata": {
        "id": "jpx4TArnlIBa"
      },
      "source": [
        "### 2. Array Broadcasting: Understanding how NumPy handles operations on arrays of different shapes\n",
        "\n",
        "NumPy's broadcasting feature allows you to perform arithmetic operations on arrays of different shapes. Broadcasting involves expanding the smaller array along the dimensions with size 1 to match the larger array.\n"
      ]
    },
    {
      "cell_type": "code",
      "execution_count": null,
      "metadata": {
        "colab": {
          "base_uri": "https://localhost:8080/"
        },
        "id": "FmXp6zH2lIBa",
        "outputId": "9927c2fa-7d35-4215-9237-c0ba47fb1b6b"
      },
      "outputs": [
        {
          "output_type": "stream",
          "name": "stdout",
          "text": [
            "2x3 Array:\n",
            " [[1 2 3]\n",
            " [4 5 6]]\n",
            "1D Array for addition: [1 2 3]\n",
            "Broadcasted addition result:\n",
            " [[2 4 6]\n",
            " [5 7 9]]\n",
            "Broadcasted scalar multiplication result:\n",
            " [[ 2  4  6]\n",
            " [ 8 10 12]]\n",
            "2D Array for multiplication:\n",
            " [[1]\n",
            " [2]]\n",
            "Broadcasted multiplication result:\n",
            " [[ 1  2  3]\n",
            " [ 8 10 12]]\n",
            "1D Array for addition along different axis: [10 20]\n",
            "Broadcasted addition along different axis result:\n",
            " [[11]\n",
            " [22]]\n"
          ]
        }
      ],
      "source": [
        "# Creating a 2x3 array\n",
        "array3 = np.array([[1, 2, 3], [4, 5, 6]])\n",
        "\n",
        "# Creating a 1D array for broadcasting\n",
        "array4 = np.array([1, 2, 3])\n",
        "\n",
        "# Broadcasting the 1D array across the 2x3 array\n",
        "broadcast_addition = array3 + array4\n",
        "\n",
        "# Broadcasting a scalar across the 2x3 array\n",
        "broadcast_scalar = array3 * 2\n",
        "\n",
        "# Creating a 2D array for broadcasting\n",
        "array5 = np.array([[1], [2]])\n",
        "\n",
        "# Broadcasting the 2D array across a compatible 2D array\n",
        "broadcast_multiplication = array3 * array5\n",
        "\n",
        "# Creating another 1D array for broadcasting\n",
        "array6 = np.array([10, 20])\n",
        "\n",
        "# Broadcasting along a different axis\n",
        "broadcast_addition2 = array5 + array6[:, np.newaxis]\n",
        "\n",
        "print(\"2x3 Array:\\n\", array3)\n",
        "print(\"1D Array for addition:\", array4)\n",
        "print(\"Broadcasted addition result:\\n\", broadcast_addition)\n",
        "print(\"Broadcasted scalar multiplication result:\\n\", broadcast_scalar)\n",
        "print(\"2D Array for multiplication:\\n\", array5)\n",
        "print(\"Broadcasted multiplication result:\\n\", broadcast_multiplication)\n",
        "print(\"1D Array for addition along different axis:\", array6)\n",
        "print(\"Broadcasted addition along different axis result:\\n\", broadcast_addition2)\n"
      ]
    },
    {
      "cell_type": "markdown",
      "metadata": {
        "id": "MHyxpfPJlIBa"
      },
      "source": [
        "# Part 4: Aggregation Functions"
      ]
    },
    {
      "cell_type": "markdown",
      "metadata": {
        "id": "VDRe02a9lIBa"
      },
      "source": [
        "### 1. Basic Aggregation: Computing statistics like min, max, sum, mean\n",
        "\n",
        "NumPy provides a variety of functions to perform basic aggregation operations on arrays. These functions help in computing statistics like minimum, maximum, sum, mean, etc.\n"
      ]
    },
    {
      "cell_type": "code",
      "source": [
        "import numpy as np\n",
        "\n",
        "# Creating an array\n",
        "array = np.array([[1, 2, 3], [4, 5, 6], [7, 8, 9]])"
      ],
      "metadata": {
        "id": "IScPMnoSylr8"
      },
      "execution_count": null,
      "outputs": []
    },
    {
      "cell_type": "code",
      "execution_count": null,
      "metadata": {
        "colab": {
          "base_uri": "https://localhost:8080/"
        },
        "id": "LJqx7dtolIBb",
        "outputId": "58901bc4-9dcf-4a1c-8372-b5872340d63a"
      },
      "outputs": [
        {
          "output_type": "stream",
          "name": "stdout",
          "text": [
            "Minimum value in the array: 1\n",
            "Maximum value in the array: 9\n",
            "Sum of all elements in the array: 45\n",
            "Mean of all elements in the array: 5.0\n",
            "Sum of elements along each column: [12 15 18]\n"
          ]
        }
      ],
      "source": [
        "# Example 1: Computing the minimum value\n",
        "min_value = np.min(array)\n",
        "print(\"Minimum value in the array:\", min_value)\n",
        "\n",
        "# Example 2: Computing the maximum value\n",
        "max_value = np.max(array)\n",
        "print(\"Maximum value in the array:\", max_value)\n",
        "\n",
        "# Example 3: Computing the sum of all elements\n",
        "sum_value = np.sum(array)\n",
        "print(\"Sum of all elements in the array:\", sum_value)\n",
        "\n",
        "# Example 4: Computing the mean (average) of all elements\n",
        "mean_value = np.mean(array)\n",
        "print(\"Mean of all elements in the array:\", mean_value)\n",
        "\n",
        "# Example 5: Computing the sum of elements along each column\n",
        "sum_along_columns = np.sum(array, axis=0)\n",
        "print(\"Sum of elements along each column:\", sum_along_columns)\n"
      ]
    },
    {
      "cell_type": "markdown",
      "metadata": {
        "id": "DXGFA-e2lIBb"
      },
      "source": [
        "### 2. basic aggregation:\n",
        "\n",
        "\n",
        "#### Computing the cumulative sum of all elements\n",
        "`np.cumsum(array)` returns the cumulative sum of the elements in the array.\n",
        "\n",
        "#### Computing the mean (average) along each row\n",
        "`np.mean(array, axis=1)` returns the average of elements in each row.\n",
        "\n",
        "#### Computing the standard deviation of all elements\n",
        "`np.std(array)` returns the standard deviation of the elements in the array, which measures the amount of variation or dispersion.\n",
        "\n",
        "#### Computing the variance of all elements\n",
        "`np.var(array)` returns the variance of the elements in the array, which is the average of the squared differences from the mean.\n"
      ]
    },
    {
      "cell_type": "code",
      "execution_count": null,
      "metadata": {
        "colab": {
          "base_uri": "https://localhost:8080/"
        },
        "id": "LQ1C_Ur8lIBb",
        "outputId": "82d09b9c-a3ce-44bb-db52-eeb6a551b65d"
      },
      "outputs": [
        {
          "output_type": "stream",
          "name": "stdout",
          "text": [
            "Cumulative sum of all elements: [ 1  3  6 10 15 21 28 36 45]\n",
            "Mean of elements along each row: [2. 5. 8.]\n",
            "Standard deviation of all elements: 2.581988897471611\n",
            "Variance of all elements: 6.666666666666667\n"
          ]
        }
      ],
      "source": [
        "import numpy as np\n",
        "\n",
        "# Creating an array\n",
        "array = np.array([[1, 2, 3], [4, 5, 6], [7, 8, 9]])\n",
        "\n",
        "# Example 3: Computing the cumulative sum of all elements\n",
        "cumulative_sum = np.cumsum(array)\n",
        "print(\"Cumulative sum of all elements:\", cumulative_sum)\n",
        "\n",
        "# Example 4: Computing the mean (average) along each row\n",
        "mean_value_rows = np.mean(array, axis=1)\n",
        "print(\"Mean of elements along each row:\", mean_value_rows)\n",
        "\n",
        "# Example 5: Computing the standard deviation of all elements\n",
        "std_deviation = np.std(array)\n",
        "print(\"Standard deviation of all elements:\", std_deviation)\n",
        "\n",
        "# Example 6: Computing the variance of all elements\n",
        "variance = np.var(array)\n",
        "print(\"Variance of all elements:\", variance)\n"
      ]
    },
    {
      "cell_type": "markdown",
      "metadata": {
        "id": "qc5cViw1lIBb"
      },
      "source": [
        "# Part 5: Advanced Indexing and Filtering"
      ]
    },
    {
      "cell_type": "markdown",
      "metadata": {
        "id": "j5n0c2QMlIBc"
      },
      "source": [
        "### 1. Boolean Indexing: Selecting elements based on conditions\n",
        "\n",
        "Boolean indexing allows you to select elements from an array that satisfy certain conditions.\n"
      ]
    },
    {
      "cell_type": "code",
      "execution_count": null,
      "metadata": {
        "colab": {
          "base_uri": "https://localhost:8080/"
        },
        "id": "k9NGRK3MlIBc",
        "outputId": "11dfba6b-1c20-410c-a56e-a683dcb5a067"
      },
      "outputs": [
        {
          "output_type": "stream",
          "name": "stdout",
          "text": [
            "Elements greater than 30: [40 50 60]\n",
            "Even elements: [10 20 30 40 50 60]\n",
            "Elements less than or equal to 40: [10 20 30 40]\n",
            "Elements between 20 and 50: [20 30 40 50]\n",
            "Elements not equal to 30: [10 20 40 50 60]\n"
          ]
        }
      ],
      "source": [
        "import numpy as np\n",
        "\n",
        "# Creating an array\n",
        "array = np.array([10, 20, 30, 40, 50, 60])\n",
        "\n",
        "# Example 1: Selecting elements greater than 30\n",
        "greater_than_30 = array[array > 30]\n",
        "print(\"Elements greater than 30:\", greater_than_30)\n",
        "\n",
        "# Example 2: Selecting elements that are even\n",
        "even_elements = array[array % 2 == 0]\n",
        "print(\"Even elements:\", even_elements)\n",
        "\n",
        "# Example 3: Selecting elements that are less than or equal to 40\n",
        "less_equal_40 = array[array <= 40]\n",
        "print(\"Elements less than or equal to 40:\", less_equal_40)\n",
        "\n",
        "# Example 4: Selecting elements that are between 20 and 50 (inclusive)\n",
        "between_20_50 = array[(array >= 20) & (array <= 50)]\n",
        "print(\"Elements between 20 and 50:\", between_20_50)\n",
        "\n",
        "# Example 5: Selecting elements that are not equal to 30\n",
        "not_equal_30 = array[array != 30]\n",
        "print(\"Elements not equal to 30:\", not_equal_30)\n"
      ]
    },
    {
      "cell_type": "markdown",
      "metadata": {
        "id": "Z5MkAs1IlIBc"
      },
      "source": [
        "### 2. Fancy Indexing: Using integer arrays to access elements\n",
        "\n",
        "Fancy indexing allows you to use arrays of integers to access specific elements from another array.\n"
      ]
    },
    {
      "cell_type": "code",
      "execution_count": null,
      "metadata": {
        "colab": {
          "base_uri": "https://localhost:8080/"
        },
        "id": "BSZgyBmblIBc",
        "outputId": "d772c705-67a5-45ee-b0f8-a9063c94f061"
      },
      "outputs": [
        {
          "output_type": "stream",
          "name": "stdout",
          "text": [
            "Elements at indices 1, 3, and 5: [20 40 60]\n",
            "Elements at negative indices -1, -2, and -3: [60 50 40]\n",
            "Elements selected using a 2D index array:\n",
            " [[10 30]\n",
            " [20 40]]\n",
            "Array after setting specific positions to 99: [99 20 99 40 99 60]\n",
            "Elements selected using fancy indexing in a multi-dimensional array: [30 50 70]\n"
          ]
        }
      ],
      "source": [
        "# Creating an array\n",
        "array = np.array([10, 20, 30, 40, 50, 60])\n",
        "\n",
        "# Example 1: Selecting elements at indices 1, 3, and 5\n",
        "indices = np.array([1, 3, 5])\n",
        "selected_elements = array[indices]\n",
        "print(\"Elements at indices 1, 3, and 5:\", selected_elements)\n",
        "\n",
        "# Example 2: Selecting elements at negative indices -1, -2, and -3\n",
        "negative_indices = np.array([-1, -2, -3])\n",
        "selected_negative_elements = array[negative_indices]\n",
        "print(\"Elements at negative indices -1, -2, and -3:\", selected_negative_elements)\n",
        "\n",
        "# Example 3: Selecting elements using a 2D index array\n",
        "index_array_2d = np.array([[0, 2], [1, 3]])\n",
        "selected_2d_elements = array[index_array_2d]\n",
        "print(\"Elements selected using a 2D index array:\\n\", selected_2d_elements)\n",
        "\n",
        "# Example 4: Selecting elements at specific positions and setting them to a new value\n",
        "array[np.array([0, 2, 4])] = 99\n",
        "print(\"Array after setting specific positions to 99:\", array)\n",
        "\n",
        "# Example 5: Using fancy indexing with multi-dimensional arrays\n",
        "multi_dim_array = np.array([[10, 20, 30], [40, 50, 60], [70, 80, 90]])\n",
        "row_indices = np.array([0, 1, 2])\n",
        "col_indices = np.array([2, 1, 0])\n",
        "fancy_selected_elements = multi_dim_array[row_indices, col_indices]\n",
        "print(\"Elements selected using fancy indexing in a multi-dimensional array:\", fancy_selected_elements)\n"
      ]
    },
    {
      "cell_type": "markdown",
      "metadata": {
        "id": "MjTF18TOlIBd"
      },
      "source": []
    },
    {
      "cell_type": "markdown",
      "metadata": {
        "id": "HwKsjSr8lIBd"
      },
      "source": [
        "## Part 6: Advanced NumPy Techniques\n",
        "- Linear Algebra Operations: Matrix multiplication, determinant, inverse.\n",
        "- Array Manipulation: Reshaping, stacking, splitting arrays."
      ]
    },
    {
      "cell_type": "markdown",
      "metadata": {
        "id": "1jioO95vlIBd"
      },
      "source": [
        "### 1. Linear Algebra Operations: Matrix multiplication, determinant, inverse\n",
        "\n",
        "NumPy provides a suite of functions for performing linear algebra operations. These include matrix multiplication, computing the determinant of a matrix, and finding the inverse of a matrix.\n"
      ]
    },
    {
      "cell_type": "code",
      "execution_count": null,
      "metadata": {
        "colab": {
          "base_uri": "https://localhost:8080/"
        },
        "id": "pRsHDK8ilIBd",
        "outputId": "09f766eb-bea0-4bcd-c9ff-a0dcd537b557"
      },
      "outputs": [
        {
          "output_type": "stream",
          "name": "stdout",
          "text": [
            "Matrix A:\n",
            " [[1 2]\n",
            " [3 4]]\n",
            "Matrix B:\n",
            " [[5 6]\n",
            " [7 8]]\n",
            "Matrix multiplication (A * B):\n",
            " [[19 22]\n",
            " [43 50]]\n",
            "Determinant of matrix A: -2.0000000000000004\n",
            "Inverse of matrix A:\n",
            " [[-2.   1. ]\n",
            " [ 1.5 -0.5]]\n"
          ]
        }
      ],
      "source": [
        "import numpy as np\n",
        "\n",
        "# Creating two matrices\n",
        "matrix_a = np.array([[1, 2], [3, 4]])\n",
        "matrix_b = np.array([[5, 6], [7, 8]])\n",
        "\n",
        "# Example 1: Matrix multiplication\n",
        "matrix_multiplication = np.dot(matrix_a, matrix_b)\n",
        "print(\"Matrix A:\\n\", matrix_a)\n",
        "print(\"Matrix B:\\n\", matrix_b)\n",
        "print(\"Matrix multiplication (A * B):\\n\", matrix_multiplication)\n",
        "\n",
        "# Example 2: Determinant of a matrix\n",
        "determinant = np.linalg.det(matrix_a)\n",
        "print(\"Determinant of matrix A:\", determinant)\n",
        "\n",
        "# Example 3: Inverse of a matrix\n",
        "inverse_matrix = np.linalg.inv(matrix_a)\n",
        "print(\"Inverse of matrix A:\\n\", inverse_matrix)\n"
      ]
    },
    {
      "cell_type": "markdown",
      "metadata": {
        "id": "bxHeKpSIlIBd"
      },
      "source": []
    },
    {
      "cell_type": "markdown",
      "metadata": {
        "id": "QA9Z1cAplIBe"
      },
      "source": [
        "### 2. Array Manipulation: Reshaping, stacking, splitting arrays\n",
        "\n",
        "NumPy allows you to manipulate arrays in various ways, such as reshaping, stacking, and splitting arrays.\n"
      ]
    },
    {
      "cell_type": "code",
      "execution_count": null,
      "metadata": {
        "colab": {
          "base_uri": "https://localhost:8080/",
          "height": 752
        },
        "id": "ekA66mM8lIBe",
        "outputId": "016ffc9f-9f2c-4dea-f795-5c12b02546bf"
      },
      "outputs": [
        {
          "output_type": "stream",
          "name": "stdout",
          "text": [
            "Original array:\n",
            " [[ 1  2  3  4]\n",
            " [ 5  6  7  8]\n",
            " [ 9 10 11 12]]\n",
            "Reshaped array (4x3):\n",
            " [[ 1  2  3]\n",
            " [ 4  5  6]\n",
            " [ 7  8  9]\n",
            " [10 11 12]]\n",
            "Array 1:\n",
            " [[1 2]\n",
            " [3 4]]\n",
            "Array 2:\n",
            " [[5 6]\n",
            " [7 8]]\n",
            "Vertically stacked array:\n",
            " [[1 2]\n",
            " [3 4]\n",
            " [5 6]\n",
            " [7 8]]\n",
            "Horizontally stacked array:\n",
            " [[1 2 5 6]\n",
            " [3 4 7 8]]\n"
          ]
        },
        {
          "output_type": "error",
          "ename": "ValueError",
          "evalue": "array split does not result in an equal division",
          "traceback": [
            "\u001b[0;31m---------------------------------------------------------------------------\u001b[0m",
            "\u001b[0;31mValueError\u001b[0m                                Traceback (most recent call last)",
            "\u001b[0;32m<ipython-input-19-216d4240973b>\u001b[0m in \u001b[0;36m<cell line: 22>\u001b[0;34m()\u001b[0m\n\u001b[1;32m     20\u001b[0m \u001b[0;34m\u001b[0m\u001b[0m\n\u001b[1;32m     21\u001b[0m \u001b[0;31m# Example 4: Splitting an array into multiple sub-arrays\u001b[0m\u001b[0;34m\u001b[0m\u001b[0;34m\u001b[0m\u001b[0m\n\u001b[0;32m---> 22\u001b[0;31m \u001b[0msplit_array\u001b[0m \u001b[0;34m=\u001b[0m \u001b[0mnp\u001b[0m\u001b[0;34m.\u001b[0m\u001b[0msplit\u001b[0m\u001b[0;34m(\u001b[0m\u001b[0marray\u001b[0m\u001b[0;34m,\u001b[0m \u001b[0;36m2\u001b[0m\u001b[0;34m)\u001b[0m\u001b[0;34m\u001b[0m\u001b[0;34m\u001b[0m\u001b[0m\n\u001b[0m\u001b[1;32m     23\u001b[0m \u001b[0mprint\u001b[0m\u001b[0;34m(\u001b[0m\u001b[0;34m\"Original array:\\n\"\u001b[0m\u001b[0;34m,\u001b[0m \u001b[0marray\u001b[0m\u001b[0;34m)\u001b[0m\u001b[0;34m\u001b[0m\u001b[0;34m\u001b[0m\u001b[0m\n\u001b[1;32m     24\u001b[0m \u001b[0mprint\u001b[0m\u001b[0;34m(\u001b[0m\u001b[0;34m\"Array split into 2 sub-arrays:\\n\"\u001b[0m\u001b[0;34m,\u001b[0m \u001b[0msplit_array\u001b[0m\u001b[0;34m)\u001b[0m\u001b[0;34m\u001b[0m\u001b[0;34m\u001b[0m\u001b[0m\n",
            "\u001b[0;32m/usr/local/lib/python3.10/dist-packages/numpy/lib/shape_base.py\u001b[0m in \u001b[0;36msplit\u001b[0;34m(ary, indices_or_sections, axis)\u001b[0m\n\u001b[1;32m    862\u001b[0m         \u001b[0mN\u001b[0m \u001b[0;34m=\u001b[0m \u001b[0mary\u001b[0m\u001b[0;34m.\u001b[0m\u001b[0mshape\u001b[0m\u001b[0;34m[\u001b[0m\u001b[0maxis\u001b[0m\u001b[0;34m]\u001b[0m\u001b[0;34m\u001b[0m\u001b[0;34m\u001b[0m\u001b[0m\n\u001b[1;32m    863\u001b[0m         \u001b[0;32mif\u001b[0m \u001b[0mN\u001b[0m \u001b[0;34m%\u001b[0m \u001b[0msections\u001b[0m\u001b[0;34m:\u001b[0m\u001b[0;34m\u001b[0m\u001b[0;34m\u001b[0m\u001b[0m\n\u001b[0;32m--> 864\u001b[0;31m             raise ValueError(\n\u001b[0m\u001b[1;32m    865\u001b[0m                 'array split does not result in an equal division') from None\n\u001b[1;32m    866\u001b[0m     \u001b[0;32mreturn\u001b[0m \u001b[0marray_split\u001b[0m\u001b[0;34m(\u001b[0m\u001b[0mary\u001b[0m\u001b[0;34m,\u001b[0m \u001b[0mindices_or_sections\u001b[0m\u001b[0;34m,\u001b[0m \u001b[0maxis\u001b[0m\u001b[0;34m)\u001b[0m\u001b[0;34m\u001b[0m\u001b[0;34m\u001b[0m\u001b[0m\n",
            "\u001b[0;31mValueError\u001b[0m: array split does not result in an equal division"
          ]
        }
      ],
      "source": [
        "# Creating an array\n",
        "array = np.arange(1, 13).reshape(3, 4)\n",
        "\n",
        "# Example 1: Reshaping an array\n",
        "reshaped_array = array.reshape(4, 3)\n",
        "print(\"Original array:\\n\", array)\n",
        "print(\"Reshaped array (4x3):\\n\", reshaped_array)\n",
        "\n",
        "# Example 2: Stacking arrays vertically\n",
        "array1 = np.array([[1, 2], [3, 4]])\n",
        "array2 = np.array([[5, 6], [7, 8]])\n",
        "stacked_array = np.vstack((array1, array2))\n",
        "print(\"Array 1:\\n\", array1)\n",
        "print(\"Array 2:\\n\", array2)\n",
        "print(\"Vertically stacked array:\\n\", stacked_array)\n",
        "\n",
        "# Example 3: Stacking arrays horizontally\n",
        "horizontally_stacked_array = np.hstack((array1, array2))\n",
        "print(\"Horizontally stacked array:\\n\", horizontally_stacked_array)\n",
        "\n",
        "# Example 4: Splitting an array into multiple sub-arrays\n",
        "split_array = np.split(array, 2)\n",
        "print(\"Original array:\\n\", array)\n",
        "print(\"Array split into 2 sub-arrays:\\n\", split_array)\n",
        "\n",
        "# Example 5: Splitting an array along the second axis (columns)\n",
        "split_array_columns = np.split(array, 2, axis=1)\n",
        "print(\"Array split into 2 sub-arrays along columns:\\n\", split_array_columns)\n"
      ]
    },
    {
      "cell_type": "markdown",
      "metadata": {
        "id": "oWDO6JL6r14R"
      },
      "source": [
        "# Summary\n",
        "\n",
        "## Part 1: Creating NumPy Arrays\n",
        "- Using `np.array()` to create arrays from Python lists.\n",
        "- Generating arrays with `np.zeros()` and `np.ones()`.\n",
        "- Using `np.arange()` for array creation.\n",
        "- Exploring array attributes (shape, dtype, ndim, size).\n",
        "- Reshaping arrays with `np.reshape()`.\n",
        "\n",
        "## Part 2: Array Indexing and Slicing\n",
        "- Accessing elements and rows in a NumPy array.\n",
        "- Slicing subarrays in NumPy arrays.\n",
        "- Using negative indices for indexing.\n",
        "- Combining indexing and slicing.\n",
        "- Modifying array elements using indexing.\n",
        "\n",
        "## Part 3: Array Operations\n",
        "- Element-wise Operations: Arithmetic operations (+, -, *, /).\n",
        "- Array Broadcasting: Understanding how NumPy handles operations on arrays of different shapes.\n",
        "\n",
        "## Part 4: Aggregation Functions\n",
        "- Basic Aggregation: Computing statistics like min, max, sum, mean.\n",
        "\n",
        "## Part 5: Advanced Indexing and Filtering\n",
        "- Boolean Indexing: Selecting elements based on conditions.\n",
        "- Fancy Indexing: Using integer arrays to access elements.\n",
        "\n",
        "## Part 6: Advanced NumPy Techniques\n",
        "- Linear Algebra Operations: Matrix multiplication, determinant, inverse.\n",
        "- Array Manipulation: Reshaping, stacking, splitting arrays."
      ]
    },
    {
      "cell_type": "markdown",
      "metadata": {
        "id": "hSP8oxmBr77B"
      },
      "source": [
        "## Additional sources (where to seek for information):\n",
        " - Crash course on YouTube: https://www.youtube.com/watch?v=QUT1VHiLmmI&t=75s\n",
        " - w3schools: https://www.w3schools.com/python/numpy/numpy_intro.asp\n",
        " - official tutorials: https://numpy.org/doc/stable/"
      ]
    },
    {
      "cell_type": "markdown",
      "metadata": {
        "id": "ObAKPgeNcZ9e"
      },
      "source": [
        "<div style=\"font-style: italic; font-size: 14px;\">\n",
        "    <p>This material was prepared by Department of Information Engineering (<a href=\"https://www.pef.czu.cz/en\">PEF ČZU</a>) exclusively for purposes of ELLS summer school \"Practical Introduction into Programming with Python\". Any distribution or reproduction of this material, in whole or in part, without prior written consent of the authors is prohibited.</p>\n",
        "    <p>This material is shared under the <b>Creative Commons Attribution-NonCommercial-NoDerivatives 4.0 International Public License</b>, <a href=\"https://creativecommons.org/licenses/by-nc-nd/4.0/\">link</a>.</p>\n",
        "</div>\n"
      ]
    }
  ],
  "metadata": {
    "colab": {
      "provenance": [],
      "toc_visible": true,
      "include_colab_link": true
    },
    "kernelspec": {
      "display_name": "Python 3",
      "name": "python3"
    },
    "language_info": {
      "codemirror_mode": {
        "name": "ipython",
        "version": 3
      },
      "file_extension": ".py",
      "mimetype": "text/x-python",
      "name": "python",
      "nbconvert_exporter": "python",
      "pygments_lexer": "ipython3",
      "version": "3.12.1"
    }
  },
  "nbformat": 4,
  "nbformat_minor": 0
}