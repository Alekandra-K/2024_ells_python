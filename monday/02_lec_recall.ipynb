{
  "cells": [
    {
      "cell_type": "markdown",
      "metadata": {
        "colab_type": "text",
        "id": "view-in-github"
      },
      "source": [
        "<a href=\"https://colab.research.google.com/github/aleksejalex/PyPEF_internal/blob/main/ELLS_Template.ipynb\" target=\"_parent\"><img src=\"https://colab.research.google.com/assets/colab-badge.svg\" alt=\"Open In Colab\"/></a>"
      ]
    },
    {
      "cell_type": "markdown",
      "metadata": {
        "id": "pRbDDh0Uf25z"
      },
      "source": [
        "# ELLS - Practical Introduction into Programming with Python\n",
        "\n",
        "<a href=\"https://pef.czu.cz/en/\"><img src=\"https://aleksejalex.4fan.cz/ells/temp_banner.jpeg\" alt=\"banner\" width=\"1000\"></a>\n",
        "\n",
        "\n",
        "\n"
      ]
    },
    {
      "cell_type": "markdown",
      "metadata": {
        "id": "LQsAPgdUvpSd"
      },
      "source": [
        "[GitHub Repository](https://github.com/)\n",
        "\n",
        "[Project's website](https://kii.pef.czu.cz/ells-2024)"
      ]
    },
    {
      "cell_type": "markdown",
      "metadata": {
        "id": "HRoCPFdVjWnR"
      },
      "source": [
        "# Plan for this lecture:\n",
        "\n",
        "<a href=\"https://www.pef.czu.cz/en\"><img src=\"images/logo.png\" alt=\"banner\" width=\"400\" align=\"right\"></a>= library created to work with *numerical data*:\n",
        " - Variables\n",
        " - Conditions\n",
        " - Loops\n",
        " - Containers\n",
        " - Classes\n",
        "\n"
      ]
    },
    {
      "cell_type": "markdown",
      "metadata": {
        "id": "u4y8bJ4CrDIY"
      },
      "source": [
        "## The Library (example)\n",
        "\n",
        "<a href=\"https://www.pef.czu.cz/en\"><img src=\"images/logo.png\" alt=\"banner\" width=\"400\" align=\"right\"></a>= library created to work with *numerical data*:\n",
        " - effectively stores and operates with high-dimensional data structures (**arrays** - like vectors and matrices)\n",
        " - implements mathematical operations on those arrays\n",
        " - [documentation](https://numpy.org/)"
      ]
    },
    {
      "cell_type": "markdown",
      "metadata": {},
      "source": [
        "# Basics of Importing in Python\n",
        "\n",
        "In Python, you can import modules and packages in various ways. Here are three basic methods to do it:\n",
        "\n",
        "Basic imports\n",
        "- import math  # For math functions\n",
        "- import os    # For tasks with operating system\n",
        "- import sys   # For system parameters\n",
        "\n",
        "\n",
        "## 1. Basic Import of the Entire Module\n",
        "In this method, the entire module is imported, and to access its functions and classes, you need to use the module name.\n"
      ]
    },
    {
      "cell_type": "code",
      "execution_count": 91,
      "metadata": {},
      "outputs": [
        {
          "name": "stdout",
          "output_type": "stream",
          "text": [
            "4.0\n"
          ]
        }
      ],
      "source": [
        "# Import the whole module 'math'\n",
        "import math\n",
        "\n",
        "# we use functions 'sqrt' from module 'math'\n",
        "result = math.sqrt(16)\n",
        "print(result)  # Output: 4.0\n"
      ]
    },
    {
      "cell_type": "markdown",
      "metadata": {},
      "source": [
        "## 2. Import Specific Functions or Classes from a Module\n",
        "\n",
        "This method allows you to import only specific functions or classes from a module, so you don't need to use the module name each time you call the function."
      ]
    },
    {
      "cell_type": "code",
      "execution_count": 121,
      "metadata": {},
      "outputs": [
        {
          "name": "stdout",
          "output_type": "stream",
          "text": [
            "4.0\n",
            "8.0\n"
          ]
        }
      ],
      "source": [
        "# Importing specific functions 'sqrt' and 'pow' from the 'math' module\n",
        "from math import sqrt, pow\n",
        "\n",
        "# Using the 'sqrt' and 'pow' functions directly\n",
        "result1 = sqrt(16)\n",
        "result2 = pow(2, 3)\n",
        "print(result1)  # Output: 4.0\n",
        "print(result2)  # Output: 8.0\n"
      ]
    },
    {
      "cell_type": "markdown",
      "metadata": {},
      "source": [
        "## 3. Import a Module with an Alias\n",
        " Using an alias can shorten the module name, which is especially useful for modules with long names."
      ]
    },
    {
      "cell_type": "code",
      "execution_count": 150,
      "metadata": {},
      "outputs": [
        {
          "name": "stdout",
          "output_type": "stream",
          "text": [
            "[1 2 3 4]\n",
            "3.0\n"
          ]
        }
      ],
      "source": [
        "# Importing the 'numpy' module with alias 'np'\n",
        "import numpy as np\n",
        "import math as lauda\n",
        "\n",
        "# Using functions from the 'numpy' module with the alias 'np'\n",
        "array = np.array([1, 2, 3, 4])\n",
        "print(array)  # Output: [1 2 3 4]\n",
        "result = lauda.sqrt(9)\n",
        "print(result)\n"
      ]
    },
    {
      "cell_type": "markdown",
      "metadata": {},
      "source": [
        "# Part 1 - Variables\n",
        "<img src=\"images/variables.jpg\" alt=\"banner\" width=\"50%\">\n"
      ]
    },
    {
      "cell_type": "markdown",
      "metadata": {},
      "source": [
        "### 1.Variables - 'string', 'int'\n",
        "\n",
        "Explanation:\n",
        "name = \"Alice\": Declares and assigns a string value \"Alice\" to the variable name.\n",
        "\n",
        "- `age = 30`: Declares and assigns an integer value 30 to the variable age.\n",
        "\n",
        "- `city = \"New York\"`: Declares and assigns a string value \"New York\" to the variable city.\n",
        "\n",
        "- `print(f\"Name: {name}, Age: {age}, City: {city}\")`: Prints the values stored in variables name, age, and city.\n",
        "\n",
        "- `is_day_today = True`: Declares bool variable to `True`"
      ]
    },
    {
      "cell_type": "code",
      "execution_count": 254,
      "metadata": {},
      "outputs": [
        {
          "name": "stdout",
          "output_type": "stream",
          "text": [
            "Name: Alice, Age: 30, City: New York\n",
            "True\n"
          ]
        }
      ],
      "source": [
        "# Example of variable declaration and assignment\n",
        "name = \"Alice\"\n",
        "age = 30\n",
        "city = \"New York\"\n",
        "\n",
        "print(f\"Name: {name}, Age: {age}, City: {city}\")\n",
        "\n",
        "is_day_today = True\n",
        "print(is_day_today)\n"
      ]
    },
    {
      "cell_type": "markdown",
      "metadata": {},
      "source": [
        "### 2. Variable Reassignment\n",
        "- `x = 10`: Initializes and assigns the integer value 10 to the variable x.\n",
        "- `print(\"Initial x:\", x)`: Prints the initial value of x.\n",
        "- `x = 20`: Reassigns the integer value 20 to the variable x.\n",
        "- `print(\"Updated x:\", x)`: Prints the updated value of x."
      ]
    },
    {
      "cell_type": "code",
      "execution_count": 255,
      "metadata": {},
      "outputs": [
        {
          "name": "stdout",
          "output_type": "stream",
          "text": [
            "Initial x: 10\n",
            "Updated x: 20\n"
          ]
        }
      ],
      "source": [
        "# Example of variable reassignment\n",
        "x = 10\n",
        "print(\"Initial x:\", x)\n",
        "\n",
        "x = 20\n",
        "print(\"Updated x:\", x)\n",
        "\n"
      ]
    },
    {
      "cell_type": "markdown",
      "metadata": {},
      "source": [
        "### 3. Variable Concatenation\n",
        "\n",
        "- `first_name = \"John\"`: Declares and assigns the string \"John\" to the variable first_name.\n",
        "- `last_name = \"Doe\"`: Declares and assigns the string \"Doe\" to the variable last_name.\n",
        "- `full_name = first_name + \" \" + last_name`: Concatenates first_name, a space \" \", and last_name to form full_name.\n",
        "- `print(\"Full Name:\", full_name)`: Prints the concatenated full name."
      ]
    },
    {
      "cell_type": "code",
      "execution_count": 256,
      "metadata": {},
      "outputs": [
        {
          "name": "stdout",
          "output_type": "stream",
          "text": [
            "Full Name: John Doe\n"
          ]
        }
      ],
      "source": [
        "# Example of variable concatenation\n",
        "first_name = \"John\"\n",
        "last_name = \"Doe\"\n",
        "\n",
        "full_name = first_name + \" \" + last_name\n",
        "print(\"Full Name:\", full_name)\n",
        "\n"
      ]
    },
    {
      "cell_type": "markdown",
      "metadata": {},
      "source": [
        "### 4. Variable Scope\n",
        "- `def my_function():`: Defines a function my_function.\n",
        "- `inner_variable = \"Inside Function\":` Declares and assigns the string \"Inside Function\" to the variable inner_variable within my_function.\n",
        "- `print(\"Inside function:\", inner_variable):` Prints the value of inner_variable from within my_function.\n",
        "- `my_function():` Calls my_function to execute its code.\n",
        "- `outer_variable = \"Outside Function\":` Declares and assigns the string \"Outside Function\" to the variable outer_variable outside any function scope.\n",
        "- `print(\"Outside function:\", outer_variable):` Prints the value of outer_variable from outside my_function."
      ]
    },
    {
      "cell_type": "code",
      "execution_count": 257,
      "metadata": {},
      "outputs": [
        {
          "name": "stdout",
          "output_type": "stream",
          "text": [
            "Inside function: Inside Function\n",
            "Outside function: Outside Function\n"
          ]
        }
      ],
      "source": [
        "# Example of variable scope\n",
        "def my_function():\n",
        "    inner_variable = \"Inside Function\"\n",
        "    print(\"Inside function:\", inner_variable)\n",
        "\n",
        "my_function()\n",
        "\n",
        "outer_variable = \"Outside Function\"\n",
        "print(\"Outside function:\", outer_variable)\n"
      ]
    },
    {
      "cell_type": "markdown",
      "metadata": {},
      "source": [
        "### 5. Mutliple variable assignment\n",
        "\n",
        "- `a, b, c = 1, 2, 3`: Assigns the values 1, 2, and 3 to variables a, b, and c respectively in a single line.\n",
        "- `print(\"a:\", a):` Prints the value of a.\n",
        "- `print(\"b:\", b):` Prints the value of b.\n",
        "- `print(\"c:\", c):` Prints the value of c."
      ]
    },
    {
      "cell_type": "code",
      "execution_count": 258,
      "metadata": {},
      "outputs": [
        {
          "name": "stdout",
          "output_type": "stream",
          "text": [
            "a: 1\n",
            "b: 2\n",
            "c: 3\n"
          ]
        }
      ],
      "source": [
        "# Example of multiple assignment\n",
        "a, b, c = 1, 2, 3\n",
        "print(\"a:\", a)\n",
        "print(\"b:\", b)\n",
        "print(\"c:\", c)"
      ]
    },
    {
      "cell_type": "markdown",
      "metadata": {},
      "source": [
        "# Conditions\n",
        "<img src=\"images/condition.jpg\" alt=\"banner\" width=\"50%\">"
      ]
    },
    {
      "cell_type": "markdown",
      "metadata": {},
      "source": [
        "### 1.a) Conditions - 'if' statement\n",
        "\n",
        "- using `if`\n",
        "- basic comparison"
      ]
    },
    {
      "cell_type": "code",
      "execution_count": 259,
      "metadata": {
        "id": "5WXmnrMqcZ9X"
      },
      "outputs": [
        {
          "name": "stdout",
          "output_type": "stream",
          "text": [
            "x is greater than 5\n"
          ]
        }
      ],
      "source": [
        "# Example of an if statement\n",
        "x = 10\n",
        "if x > 5:\n",
        "    print(\"x is greater than 5\")"
      ]
    },
    {
      "cell_type": "markdown",
      "metadata": {},
      "source": [
        "### 1.a) Conditions - 'if' statement - one line construct and ternary operator\n",
        "\n",
        "- using `if` one line construct\n",
        "- ternary operator usage"
      ]
    },
    {
      "cell_type": "code",
      "execution_count": 281,
      "metadata": {},
      "outputs": [
        {
          "name": "stdout",
          "output_type": "stream",
          "text": [
            "Name: Alice, Age: 30, City: New York\n",
            "Non-positive\n"
          ]
        }
      ],
      "source": [
        "name, age, city = \"Alice\", 30, \"New York\"\n",
        "print(f\"Name: {name}, Age: {age}, City: {city}\") if (name := \"Alice\") and (age := 30) and (city := \"New York\") else None\n",
        "\n",
        "# ternary operator\n",
        "value = -10\n",
        "result = \"Positive\" if value > 0 else \"Non-positive\"\n",
        "print(result)"
      ]
    },
    {
      "cell_type": "markdown",
      "metadata": {},
      "source": [
        "### 2.Conditions using 'if' and 'else'\n",
        "\n",
        "- Example of if else scheme'\n",
        "- basic comparison"
      ]
    },
    {
      "cell_type": "code",
      "execution_count": 282,
      "metadata": {},
      "outputs": [
        {
          "name": "stdout",
          "output_type": "stream",
          "text": [
            "y is an odd number\n"
          ]
        }
      ],
      "source": [
        "# Example of an if-else statement\n",
        "y = 3\n",
        "if y % 2 == 0:\n",
        "    print(\"y is an even number\")\n",
        "else:\n",
        "    print(\"y is an odd number\")\n"
      ]
    },
    {
      "cell_type": "markdown",
      "metadata": {},
      "source": [
        "### 3.Condition using `if`, `elif`, `else`\n",
        "\n",
        "The `elif` statement allows you to check multiple conditions. It is short for \"else if\"."
      ]
    },
    {
      "cell_type": "code",
      "execution_count": 283,
      "metadata": {},
      "outputs": [
        {
          "name": "stdout",
          "output_type": "stream",
          "text": [
            "z is zero\n"
          ]
        }
      ],
      "source": [
        "# Example of using if, elif, and else statements\n",
        "z = 0\n",
        "if z > 0:\n",
        "    print(\"z is a positive number\")\n",
        "elif z < 0:\n",
        "    print(\"z is a negative number\")\n",
        "else:\n",
        "    print(\"z is zero\")\n"
      ]
    },
    {
      "cell_type": "markdown",
      "metadata": {},
      "source": [
        "### 4.Condition using Nested Conditions `if`, (`if`, `else`), `else`\n",
        "\n",
        "Nested conditions refer to placing one condition inside another.\n"
      ]
    },
    {
      "cell_type": "code",
      "execution_count": 284,
      "metadata": {},
      "outputs": [
        {
          "name": "stdout",
          "output_type": "stream",
          "text": [
            "a is greater than 10 and it's an odd number\n"
          ]
        }
      ],
      "source": [
        "# Example of nested conditions\n",
        "a = 15\n",
        "if a > 10:\n",
        "    if a % 2 == 0:\n",
        "        print(\"a is greater than 10 and it's an even number\")\n",
        "    else:\n",
        "        print(\"a is greater than 10 and it's an odd number\")\n",
        "else:\n",
        "    print(\"a is 10 or less\")\n"
      ]
    },
    {
      "cell_type": "markdown",
      "metadata": {},
      "source": [
        "### 5.Condition using Nested Conditions `and`, `or`\n",
        "\n",
        "Usage with logical operators\n"
      ]
    },
    {
      "cell_type": "code",
      "execution_count": 302,
      "metadata": {},
      "outputs": [
        {
          "name": "stdout",
          "output_type": "stream",
          "text": [
            "Neither x is greater than 5 nor y is greater than 7\n"
          ]
        }
      ],
      "source": [
        "# Example of using `or` operator in conditions\n",
        "x = 10\n",
        "y = 5\n",
        "\n",
        "if (x > 7 and y > 7):\n",
        "    print(\"Both numbers are greater than 7\")\n",
        "if (x > 5 or y > 7):\n",
        "    print(\"Neither x is greater than 5 nor y is greater than 7\")"
      ]
    },
    {
      "cell_type": "markdown",
      "metadata": {},
      "source": [
        "# Loops\n",
        "<img src=\"images/loops.jpg\" alt=\"banner\" width=\"50%\">"
      ]
    },
    {
      "cell_type": "markdown",
      "metadata": {},
      "source": [
        "### 1.a) Basic `for` loop construct - multiple lines approach\n",
        "\n",
        "Usage basic iteration via the collection\n"
      ]
    },
    {
      "cell_type": "code",
      "execution_count": 303,
      "metadata": {},
      "outputs": [
        {
          "name": "stdout",
          "output_type": "stream",
          "text": [
            "apple\n",
            "banana\n",
            "cherry\n"
          ]
        }
      ],
      "source": [
        "# Example of a for loop\n",
        "fruits = [\"apple\", \"banana\", \"cherry\"]\n",
        "for fruit in fruits:\n",
        "    print(fruit)"
      ]
    },
    {
      "cell_type": "markdown",
      "metadata": {},
      "source": [
        "### 1.b) Basic `for` loop construct - one line approach\n",
        "\n",
        "Usage basic iteration via the collection with one line construct\n"
      ]
    },
    {
      "cell_type": "code",
      "execution_count": 304,
      "metadata": {},
      "outputs": [
        {
          "name": "stdout",
          "output_type": "stream",
          "text": [
            "9\n"
          ]
        }
      ],
      "source": [
        "# Example of list comprehension\n",
        "numbers = [1, 2, 3, 4, 5]\n",
        "\n",
        "# Using list comprehension to create a new list\n",
        "squared_numbers = [x ** 2 for x in numbers]\n",
        "\n",
        "# Getting a value\n",
        "print(squared_numbers[2])  # Output: 9"
      ]
    },
    {
      "cell_type": "markdown",
      "metadata": {},
      "source": [
        "### 2. Basic `while` loop\n",
        "\n",
        "- Usage of `while` Loop\n",
        "- Caution: be careful with using `while` loops: GENERALLY PROGRAMMERS INAPPROPRIATELY SET CONDITION AND LOOP NEVER STOPS!!!!"
      ]
    },
    {
      "cell_type": "code",
      "execution_count": 305,
      "metadata": {},
      "outputs": [
        {
          "name": "stdout",
          "output_type": "stream",
          "text": [
            "1\n",
            "2\n",
            "3\n",
            "4\n",
            "5\n"
          ]
        }
      ],
      "source": [
        "# Example of a while loop\n",
        "i = 1\n",
        "while i <= 5:\n",
        "    print(i)\n",
        "    i += 1"
      ]
    },
    {
      "cell_type": "markdown",
      "metadata": {},
      "source": [
        "### 3.Basic - Nested Loops Example\n",
        "\n",
        "Nested loops refer to placing one loop inside another loop."
      ]
    },
    {
      "cell_type": "code",
      "execution_count": 306,
      "metadata": {},
      "outputs": [
        {
          "name": "stdout",
          "output_type": "stream",
          "text": [
            "(1, 1)\n",
            "(1, 2)\n",
            "(1, 3)\n",
            "(2, 1)\n",
            "(2, 2)\n",
            "(2, 3)\n",
            "(3, 1)\n",
            "(3, 2)\n",
            "(3, 3)\n"
          ]
        }
      ],
      "source": [
        "# Example of nested loops\n",
        "for i in range(1, 4):\n",
        "    for j in range(1, 4):\n",
        "        print(f\"({i}, {j})\")\n"
      ]
    },
    {
      "cell_type": "markdown",
      "metadata": {},
      "source": [
        "### 4.Basic - Loops with conditions\n",
        "\n",
        "Example of `break` and `continue` in a loop\n"
      ]
    },
    {
      "cell_type": "code",
      "execution_count": 307,
      "metadata": {},
      "outputs": [
        {
          "name": "stdout",
          "output_type": "stream",
          "text": [
            "1\n",
            "3\n"
          ]
        }
      ],
      "source": [
        "# Example of break and continue in a loop\n",
        "numbers = [1, 2, 3, 4, 5, 6]\n",
        "for number in numbers:\n",
        "    if number % 2 == 0:\n",
        "        continue  # Skip even numbers\n",
        "    if number == 5:\n",
        "        break  # Exit the loop when number is 5\n",
        "    print(number)\n"
      ]
    },
    {
      "cell_type": "markdown",
      "metadata": {},
      "source": [
        "### 5.Basics - Looping through dictionary items\n",
        "\n",
        "iterate via `dictionary` collection"
      ]
    },
    {
      "cell_type": "code",
      "execution_count": 308,
      "metadata": {},
      "outputs": [
        {
          "name": "stdout",
          "output_type": "stream",
          "text": [
            "name: Alice\n",
            "age: 30\n",
            "city: New York\n"
          ]
        }
      ],
      "source": [
        "# Example of looping through dictionary items\n",
        "person = {\"name\": \"Alice\", \"age\": 30, \"city\": \"New York\"}\n",
        "for key, value in person.items():\n",
        "    print(f\"{key}: {value}\")"
      ]
    },
    {
      "cell_type": "markdown",
      "metadata": {},
      "source": [
        "# Containers\n",
        "<img src=\"images/containers.jpg\" alt=\"banner\" width=\"50%\">"
      ]
    },
    {
      "cell_type": "markdown",
      "metadata": {},
      "source": [
        "### 1.List Example\n",
        "\n",
        "- `fruits = [\"apple\", \"banana\", \"cherry\"]`: Initializes a list `fruits` containing strings.\n",
        "- `fruits.append(\"orange\")`: Adds the string `\"orange\"` to the end of the list `fruits`.\n",
        "- `print(fruits[0])`: Prints the first element (`\"apple\"`) of the list `fruits`.\n"
      ]
    },
    {
      "cell_type": "code",
      "execution_count": 319,
      "metadata": {},
      "outputs": [
        {
          "name": "stdout",
          "output_type": "stream",
          "text": [
            "apple\n"
          ]
        }
      ],
      "source": [
        "# Example of a list\n",
        "fruits = [\"apple\", \"banana\", \"cherry\"]\n",
        "\n",
        "# Inserting a value\n",
        "fruits.append(\"orange\")\n",
        "\n",
        "# Getting a value\n",
        "print(fruits[0])  # Output: apple\n"
      ]
    },
    {
      "cell_type": "markdown",
      "metadata": {},
      "source": [
        "### 2.Tuple Example\n",
        "\n",
        "- `person = (\"John\", 30, \"New York\")`: Initializes a tuple `person` with elements `\"John\"`, `30`, and `\"New York\"`.\n",
        "- Tuple is immutable, so you cannot add or remove elements after creation.\n",
        "- `print(person[1])`: Prints the second element (`30`) of the tuple `person`."
      ]
    },
    {
      "cell_type": "code",
      "execution_count": 338,
      "metadata": {},
      "outputs": [
        {
          "name": "stdout",
          "output_type": "stream",
          "text": [
            "True\n"
          ]
        }
      ],
      "source": [
        "# Example of a tuple\n",
        "person = (\"John\", 30, \"New York\")\n",
        "\n",
        "# Tuple is immutable, so you cannot directly insert values.\n",
        "# You can access values by index.\n",
        "print(person[3])  # Output: 30\n"
      ]
    },
    {
      "cell_type": "markdown",
      "metadata": {},
      "source": [
        "### 3.Set Example\n",
        "\n",
        "- `colors = {\"red\", \"green\", \"blue\"}`: Initializes a set `colors` containing strings.\n",
        "- `colors.add(\"yellow\")`: Adds the string `\"yellow\"` to the set `colors`.\n",
        "- Sets are unordered, so you cannot access elements by index. Use iteration (`for` loop) to print all elements.\n"
      ]
    },
    {
      "cell_type": "code",
      "execution_count": 339,
      "metadata": {},
      "outputs": [
        {
          "name": "stdout",
          "output_type": "stream",
          "text": [
            "blue\n",
            "green\n",
            "red\n",
            "yellow\n"
          ]
        }
      ],
      "source": [
        "# Example of a set\n",
        "colors = {\"red\", \"green\", \"blue\"}\n",
        "\n",
        "# Adding a value\n",
        "colors.add(\"yellow\")\n",
        "\n",
        "# Getting values (sets are unordered, so you cannot access by index)\n",
        "for color in colors:\n",
        "    print(color)\n"
      ]
    },
    {
      "cell_type": "markdown",
      "metadata": {},
      "source": [
        "### 4.Dictionary Example\n",
        "\n",
        "- `person = {\"name\": \"Alice\", \"age\": 30, \"city\": \"New York\"}`: Initializes a dictionary `person` with keys `\"name\"`, `\"age\"`, and `\"city\"`, and their corresponding values.\n",
        "- `person[\"email\"] = \"alice@example.com\"`: Inserts a new key-value pair `\"email\": \"alice@example.com\"` into the dictionary `person`.\n",
        "- `print(person[\"name\"])`: Retrieves and prints the value associated with the key `\"name\"` from the dictionary `person`."
      ]
    },
    {
      "cell_type": "code",
      "execution_count": 340,
      "metadata": {},
      "outputs": [
        {
          "name": "stdout",
          "output_type": "stream",
          "text": [
            "Alice\n"
          ]
        }
      ],
      "source": [
        "# Example of a dictionary\n",
        "person = {\"name\": \"Alice\", \"age\": 30, \"city\": \"New York\"}\n",
        "\n",
        "# Inserting a value\n",
        "person[\"email\"] = \"alice@example.com\"\n",
        "\n",
        "# Getting a value\n",
        "print(person[\"name\"])  # Output: Alice\n"
      ]
    },
    {
      "cell_type": "markdown",
      "metadata": {},
      "source": [
        "\n",
        "### 5.Nested List Example\n",
        "\n",
        "- `matrix = [[1, 2, 3], [4, 5, 6], [7, 8, 9]]`: Initializes a nested list `matrix` containing three inner lists.\n",
        "- `matrix[0].append(4)`: Appends the integer `4` to the first inner list `[1, 2, 3]` within `matrix`.\n",
        "- `print(matrix[1][1])`: Retrieves and prints the value at row index `1` and column index `1` from the nested list `matrix`."
      ]
    },
    {
      "cell_type": "code",
      "execution_count": 341,
      "metadata": {},
      "outputs": [
        {
          "name": "stdout",
          "output_type": "stream",
          "text": [
            "5\n"
          ]
        }
      ],
      "source": [
        "# Example of nested list\n",
        "matrix = [[1, 2, 3], [4, 5, 6], [7, 8, 9]]\n",
        "\n",
        "# Inserting a value\n",
        "matrix[0].append(4)\n",
        "\n",
        "# Getting a value\n",
        "print(matrix[1][1])  # Output: 5\n"
      ]
    },
    {
      "cell_type": "markdown",
      "metadata": {},
      "source": [
        "### 6.Example of List Comprehension\n",
        "\n",
        "- `numbers = [1, 2, 3, 4, 5]`: Initializes a list `numbers` with integers.\n",
        "- `squared_numbers = [x ** 2 for x in numbers]`: Uses list comprehension to create a new list `squared_numbers` where each element is the square of the corresponding element from `numbers`.\n",
        "- `print(squared_numbers[2])`: Retrieves and prints the third element (`9`) from the list `squared_numbers`, which is the square of `3` from `numbers`.\n"
      ]
    },
    {
      "cell_type": "code",
      "execution_count": 342,
      "metadata": {},
      "outputs": [
        {
          "name": "stdout",
          "output_type": "stream",
          "text": [
            "9\n"
          ]
        }
      ],
      "source": [
        "# Example of list comprehension\n",
        "numbers = [1, 2, 3, 4, 5]\n",
        "\n",
        "# Using list comprehension to create a new list\n",
        "squared_numbers = [x ** 2 for x in numbers]\n",
        "\n",
        "# Getting a value\n",
        "print(squared_numbers[2])  # Output: 9\n"
      ]
    },
    {
      "cell_type": "markdown",
      "metadata": {},
      "source": [
        "### 7.Example of Set Comprehension\n",
        "\n",
        "- `numbers = [1, 2, 3, 4, 5, 5, 4, 3, 2, 1]`: Initializes a list `numbers` with integers.\n",
        "- `unique_numbers = {x for x in numbers}`: Uses set comprehension to create a new set `unique_numbers` containing unique elements from `numbers`.\n",
        "- Iterates through `unique_numbers` to print each unique element.\n"
      ]
    },
    {
      "cell_type": "code",
      "execution_count": 343,
      "metadata": {},
      "outputs": [
        {
          "name": "stdout",
          "output_type": "stream",
          "text": [
            "1\n",
            "2\n",
            "3\n",
            "4\n",
            "5\n"
          ]
        }
      ],
      "source": [
        "# Example of set comprehension\n",
        "numbers = [1, 2, 3, 4, 5, 5, 4, 3, 2, 1]\n",
        "\n",
        "# Using set comprehension to create a new set\n",
        "unique_numbers = {x for x in numbers}\n",
        "\n",
        "# Getting values (sets are unordered, so you cannot access by index)\n",
        "for num in unique_numbers:\n",
        "    print(num)\n"
      ]
    },
    {
      "cell_type": "markdown",
      "metadata": {},
      "source": [
        "### 8.Example of Dictionary Comprehension\n",
        "\n",
        "- `numbers = [1, 2, 3, 4, 5]`: Initializes a list `numbers` with integers.\n",
        "- `squared_dict = {x: x ** 2 for x in numbers}`: Uses dictionary comprehension to create a new dictionary `squared_dict` where keys are elements from `numbers` and values are the squares of those elements.\n",
        "- `print(squared_dict[4])`: Retrieves and prints the value associated with key `4` from the dictionary `squared_dict`, which is `16`.\n"
      ]
    },
    {
      "cell_type": "code",
      "execution_count": 344,
      "metadata": {},
      "outputs": [
        {
          "name": "stdout",
          "output_type": "stream",
          "text": [
            "16\n"
          ]
        }
      ],
      "source": [
        "# Example of dictionary comprehension\n",
        "numbers = [1, 2, 3, 4, 5]\n",
        "\n",
        "# Using dictionary comprehension to create a new dictionary\n",
        "squared_dict = {x: x ** 2 for x in numbers}\n",
        "\n",
        "# Getting a value\n",
        "print(squared_dict[4])  # Output: 16\n"
      ]
    },
    {
      "cell_type": "markdown",
      "metadata": {},
      "source": [
        "### 9.Example of Generator Expression\n",
        "\n",
        "- `numbers = [1, 2, 3, 4, 5]`: Initializes a list `numbers` with integers.\n",
        "- `squared_gen = (x ** 2 for x in numbers)`: Uses a generator expression to create a generator `squared_gen` that yields the square of each element in `numbers` when iterated.\n",
        "- Iterates through `squared_gen` to print each squared value.\n"
      ]
    },
    {
      "cell_type": "code",
      "execution_count": 345,
      "metadata": {},
      "outputs": [
        {
          "name": "stdout",
          "output_type": "stream",
          "text": [
            "1\n",
            "4\n",
            "9\n",
            "16\n",
            "25\n"
          ]
        }
      ],
      "source": [
        "# Example of generator expression\n",
        "numbers = [1, 2, 3, 4, 5]\n",
        "\n",
        "# Using generator expression to iterate through values\n",
        "squared_gen = (x ** 2 for x in numbers)\n",
        "\n",
        "# Getting values by iteration\n",
        "for num in squared_gen:\n",
        "    print(num)\n"
      ]
    },
    {
      "cell_type": "markdown",
      "metadata": {},
      "source": [
        "# Classes\n",
        "\n",
        "<img src=\"images/classes.jpg\" alt=\"banner\" width=\"50%\">"
      ]
    },
    {
      "cell_type": "markdown",
      "metadata": {},
      "source": [
        "### 1.Class Declaration\n",
        "\n",
        "- Defines a base class `Animal` with an initializer method `__init__` that sets the `name` attribute.\n",
        "- Defines a method `speak` which raises `NotImplementedError` indicating that subclasses must implement this method.\n",
        "- Creates instances of the class `Animal` (`dog` and `cat`) with names \"Dog\" and \"Cat\" respectively.\n",
        "- Accesses the `name` attribute of the instances (`dog.name` and `cat.name`) and calls the `speak` method on the instance `cat`.\n"
      ]
    },
    {
      "cell_type": "code",
      "execution_count": 346,
      "metadata": {},
      "outputs": [
        {
          "name": "stdout",
          "output_type": "stream",
          "text": [
            "Dog\n"
          ]
        },
        {
          "ename": "NotImplementedError",
          "evalue": "Subclass must implement abstract method",
          "output_type": "error",
          "traceback": [
            "\u001b[1;31m---------------------------------------------------------------------------\u001b[0m",
            "\u001b[1;31mNotImplementedError\u001b[0m                       Traceback (most recent call last)",
            "Cell \u001b[1;32mIn[346], line 15\u001b[0m\n\u001b[0;32m     13\u001b[0m \u001b[38;5;66;03m# Accessing attributes and methods\u001b[39;00m\n\u001b[0;32m     14\u001b[0m \u001b[38;5;28mprint\u001b[39m(dog\u001b[38;5;241m.\u001b[39mname)  \u001b[38;5;66;03m# Output: Dog\u001b[39;00m\n\u001b[1;32m---> 15\u001b[0m \u001b[43mcat\u001b[49m\u001b[38;5;241;43m.\u001b[39;49m\u001b[43mspeak\u001b[49m\u001b[43m(\u001b[49m\u001b[43m)\u001b[49m  \u001b[38;5;66;03m# Raises NotImplementedError\u001b[39;00m\n",
            "Cell \u001b[1;32mIn[346], line 7\u001b[0m, in \u001b[0;36mAnimal.speak\u001b[1;34m(self)\u001b[0m\n\u001b[0;32m      6\u001b[0m \u001b[38;5;28;01mdef\u001b[39;00m \u001b[38;5;21mspeak\u001b[39m(\u001b[38;5;28mself\u001b[39m):\n\u001b[1;32m----> 7\u001b[0m     \u001b[38;5;28;01mraise\u001b[39;00m \u001b[38;5;167;01mNotImplementedError\u001b[39;00m(\u001b[38;5;124m\"\u001b[39m\u001b[38;5;124mSubclass must implement abstract method\u001b[39m\u001b[38;5;124m\"\u001b[39m)\n",
            "\u001b[1;31mNotImplementedError\u001b[0m: Subclass must implement abstract method"
          ]
        }
      ],
      "source": [
        "# Example of class declaration\n",
        "class Animal:\n",
        "    def __init__(self, name):\n",
        "        self.name = name\n",
        "    \n",
        "    def speak(self):\n",
        "        raise NotImplementedError(\"Subclass must implement abstract method\")\n",
        "\n",
        "# Creating instances of the class\n",
        "dog = Animal(\"Dog\")\n",
        "cat = Animal(\"Cat\")\n",
        "\n",
        "# Accessing attributes and methods\n",
        "print(dog.name)  # Output: Dog\n",
        "cat.speak()  # Raises NotImplementedError\n"
      ]
    },
    {
      "cell_type": "markdown",
      "metadata": {},
      "source": [
        "### 2.Inheritance\n",
        "\n",
        "- Defines a subclass `Dog` inheriting from the base class `Animal`.\n",
        "- Overrides the `speak` method in the subclass `Dog` to return a string representing the dog's sound.\n",
        "- Defines another subclass `Cat` inheriting from `Animal` and overrides the `speak` method for cats.\n",
        "- Creates instances of `Dog` (`dog`) and `Cat` (`cat`) with names \"Buddy\" and \"Whiskers\" respectively.\n",
        "- Accesses the overridden `speak` methods for both instances (`dog.speak()` and `cat.speak()`).\n"
      ]
    },
    {
      "cell_type": "code",
      "execution_count": null,
      "metadata": {},
      "outputs": [],
      "source": [
        "# Example of inheritance\n",
        "class Dog(Animal):\n",
        "    def speak(self):\n",
        "        return f\"{self.name} says Woof!\"\n",
        "\n",
        "class Cat(Animal):\n",
        "    def speak(self):\n",
        "        return f\"{self.name} says Meow!\"\n",
        "\n",
        "# Creating instances of subclasses\n",
        "dog = Dog(\"Buddy\")\n",
        "cat = Cat(\"Whiskers\")\n",
        "\n",
        "# Accessing overridden methods\n",
        "print(dog.speak())  # Output: Buddy says Woof!\n",
        "print(cat.speak())  # Output: Whiskers says Meow!\n"
      ]
    },
    {
      "cell_type": "markdown",
      "metadata": {},
      "source": [
        "### 3.Method Overriding\n",
        "\n",
        "- Defines a subclass `Bird` inheriting from the base class `Animal`.\n",
        "- Overrides the `speak` method in the subclass `Bird` to return a custom string representing the bird's sound.\n",
        "- Creates an instance of `Bird` (`bird`) with the name \"Nightingale\".\n",
        "- Accesses the overridden `speak` method for the `bird` instance (`bird.speak()`).\n"
      ]
    },
    {
      "cell_type": "code",
      "execution_count": null,
      "metadata": {},
      "outputs": [],
      "source": [
        "# Example of method overriding\n",
        "class Bird(Animal):\n",
        "    def speak(self):\n",
        "        return f\"{self.name} sings beautifully!\"\n",
        "\n",
        "# Creating an instance of the subclass\n",
        "bird = Bird(\"Nightingale\")\n",
        "\n",
        "# Accessing overridden method\n",
        "print(bird.speak())  # Output: Nightingale sings beautifully!\n"
      ]
    },
    {
      "cell_type": "markdown",
      "metadata": {},
      "source": [
        "### 4.Class with Class Variable and Instance Variable\n",
        "\n",
        "- Defines a class `Employee` with a class variable `company` set to \"XYZ Corp\".\n",
        "- Initializes instances of `Employee` (`emp1` and `emp2`) with instance variables `name` and `salary`.\n",
        "- Accesses and prints the class variable `company` using both the class (`Employee.company`) and instance (`emp1.company`) references.\n",
        "- Accesses and prints the instance variables `name` and `salary` for both instances (`emp1.name`, `emp1.salary`, `emp2.name`, `emp2.salary`).\n"
      ]
    },
    {
      "cell_type": "code",
      "execution_count": null,
      "metadata": {},
      "outputs": [],
      "source": [
        "# Example of class with class variable and instance variable\n",
        "class Employee:\n",
        "    company = \"XYZ Corp\"  # Class variable\n",
        "    \n",
        "    def __init__(self, name, salary):\n",
        "        self.name = name  # Instance variable\n",
        "        self.salary = salary  # Instance variable\n",
        "\n",
        "# Creating instances of the class\n",
        "emp1 = Employee(\"John\", 50000)\n",
        "emp2 = Employee(\"Alice\", 60000)\n",
        "\n",
        "# Accessing class and instance variables\n",
        "print(Employee.company)  # Output: XYZ Corp\n",
        "print(emp1.name, emp1.salary)  # Output: John 50000\n",
        "print(emp2.name, emp2.salary)  # Output: Alice 60000\n"
      ]
    },
    {
      "cell_type": "markdown",
      "metadata": {},
      "source": [
        "### 5.Multiple Inheritance\n",
        "\n",
        "- Defines three classes `A`, `B`, and `C` where `C` inherits from both `A` and `B`.\n",
        "- Defines methods `method_a`, `method_b`, and `method_c` in classes `A`, `B`, and `C` respectively.\n",
        "- Creates an instance `obj` of the class `C`.\n",
        "- Accesses and calls methods from both parent classes (`obj.method_a()`, `obj.method_b()`) as well as its own method (`obj.method_c()`).\n"
      ]
    },
    {
      "cell_type": "code",
      "execution_count": null,
      "metadata": {},
      "outputs": [],
      "source": [
        "# Example of multiple inheritance\n",
        "class A:\n",
        "    def method_a(self):\n",
        "        print(\"Method A\")\n",
        "\n",
        "class B:\n",
        "    def method_b(self):\n",
        "        print(\"Method B\")\n",
        "\n",
        "class C(A, B):\n",
        "    def method_c(self):\n",
        "        print(\"Method C\")\n",
        "\n",
        "# Creating an instance of the subclass\n",
        "obj = C()\n",
        "\n",
        "# Accessing methods from both base classes\n",
        "obj.method_a()  # Output: Method A\n",
        "obj.method_b()  # Output: Method B\n",
        "obj.method_c()  # Output: Method C\n"
      ]
    },
    {
      "cell_type": "markdown",
      "metadata": {
        "id": "oWDO6JL6r14R"
      },
      "source": [
        "## Summary\n",
        " - Basic importing\n",
        " - Basic Variables: int, string, etc..\n",
        " - Conditions: using 'if' and 'else'\n",
        " - Loops: for, while, etc..\n",
        " - Containers: List, Set, etc..\n",
        " - Classes: basic declaration, inheritance"
      ]
    },
    {
      "cell_type": "markdown",
      "metadata": {
        "id": "hSP8oxmBr77B"
      },
      "source": [
        "## Additional sources (where to seek for information):\n",
        " - Programming with Mosh: https://www.youtube.com/watch?v=kqtD5dpn9C8\n",
        " - w3Schools Python: https://www.w3schools.com/python/"
      ]
    },
    {
      "cell_type": "markdown",
      "metadata": {
        "id": "ObAKPgeNcZ9e"
      },
      "source": [
        "<div style=\"font-style: italic; font-size: 14px;\">\n",
        "    <p>This material was prepared by Department of Information Engineering (<a href=\"https://www.pef.czu.cz/en\">PEF ČZU</a>) exclusively for purposes of ELLS summer school \"Practical Introduction into Programming with Python\". Any distribution or reproduction of this material, in whole or in part, without prior written consent of the authors is prohibited.</p>\n",
        "    <p>This material is shared under the <b>Creative Commons Attribution-NonCommercial-NoDerivatives 4.0 International Public License</b>, <a href=\"https://creativecommons.org/licenses/by-nc-nd/4.0/\">link</a>.</p>\n",
        "</div>\n"
      ]
    }
  ],
  "metadata": {
    "colab": {
      "include_colab_link": true,
      "provenance": []
    },
    "kernelspec": {
      "display_name": "Python 3",
      "name": "python3"
    },
    "language_info": {
      "codemirror_mode": {
        "name": "ipython",
        "version": 3
      },
      "file_extension": ".py",
      "mimetype": "text/x-python",
      "name": "python",
      "nbconvert_exporter": "python",
      "pygments_lexer": "ipython3",
      "version": "3.12.1"
    }
  },
  "nbformat": 4,
  "nbformat_minor": 0
}
